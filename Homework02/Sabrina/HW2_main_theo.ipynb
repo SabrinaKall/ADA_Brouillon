{
 "cells": [
  {
   "cell_type": "markdown",
   "metadata": {},
   "source": [
    "# Assignment 2: Voting Visualized"
   ]
  },
  {
   "cell_type": "markdown",
   "metadata": {},
   "source": [
    "## Deadline\n",
    "\n",
    "Oct. 24th\n",
    "\n",
    "## Important notes\n",
    "\n",
    "- Make sure you push on GitHub your notebook with all the cells already evaluated.\n",
    "- Note that maps do not render in a standard Github environment. You should export them to HTML and link them in your notebook.\n",
    "- Don't forget to add a textual description of your thought process, the assumptions you made, and the solution you implemented.\n",
    "- Please write all your comments in English, and use meaningful variable names in your code.\n",
    "\n",
    "## Background\n"
   ]
  },
  {
   "cell_type": "markdown",
   "metadata": {},
   "source": [
    "* Are you curious to know what the political leanings of the people of Switzerland are?\n",
    "* Do you wake up in a cold sweat, wondering which party won the last cantonal parliament election in Vaud?\n",
    "* Are you looking to learn all sorts of visualizations, including maps, in Python?\n",
    "\n",
    "If your answer to any of the above is yes, this assignment is just right for you. Otherwise, it's still an assignment, so we're terribly sorry.\n",
    "\n",
    "The chief aim of this assignment is to familiarize you with visualizations in Python, particularly maps, and also to give you some insight into how visualizations are to be interpreted. The data we will use is the data on Swiss cantonal parliament elections from 2007 to 2018, which contains, for each cantonal election in this time period, the voting percentages for each party and canton.\n",
    "\n",
    "For the visualization part, install [Folium](Folium) (_Hint: it is not available in your standard Anaconda environment, therefore search on the Web how to install it easily!_). Folium's README comes with very clear examples, and links to their own iPython Notebooks -- make good use of this information. For your own convenience, in this same directory you can already find one TopoJSON file, containing the geo-coordinates of the cantonal borders of Switzerland.\n",
    "\n",
    "One last, general reminder: back up any hypotheses and claims with data, since this is an important aspect of the course."
   ]
  },
  {
   "cell_type": "code",
   "execution_count": null,
   "metadata": {},
   "outputs": [],
   "source": [
    "import pandas as pd\n",
    "import json\n",
    "import folium\n",
    "import os\n",
    "import xlrd\n"
   ]
  },
  {
   "cell_type": "code",
   "execution_count": null,
   "metadata": {},
   "outputs": [],
   "source": [
    "data_folder = './data/'"
   ]
  },
  {
   "cell_type": "code",
   "execution_count": null,
   "metadata": {},
   "outputs": [],
   "source": [
    "folium.__version__ == '0.6.0'"
   ]
  },
  {
   "cell_type": "code",
   "execution_count": null,
   "metadata": {
    "scrolled": true
   },
   "outputs": [],
   "source": []
  },
  {
   "cell_type": "code",
   "execution_count": null,
   "metadata": {
    "scrolled": true
   },
   "outputs": [],
   "source": []
  },
  {
   "cell_type": "code",
   "execution_count": null,
   "metadata": {},
   "outputs": [],
   "source": []
  },
  {
   "cell_type": "code",
   "execution_count": null,
   "metadata": {},
   "outputs": [],
   "source": []
  },
  {
   "cell_type": "code",
   "execution_count": null,
   "metadata": {},
   "outputs": [],
   "source": []
  },
  {
   "cell_type": "markdown",
   "metadata": {},
   "source": [
    "# Task 1: Cartography and census\n",
    "\n",
    "__A)__ Display a Swiss map that has cantonal borders as well as the national borders. We provide a TopoJSON `data/ch-cantons.topojson.json` that contains the borders of the cantons.\n",
    "\n",
    "__B)__ Take the spreadsheet `data/communes_pop.xls`, collected from [admin.ch](https://www.bfs.admin.ch/bfs/fr/home/statistiques/catalogues-banques-donnees/tableaux.assetdetail.5886191.html), containing population figures for every commune. You can use [pd.read_excel()](https://pandas.pydata.org/pandas-docs/version/0.20/generated/pandas.read_excel.html) to read the file and to select specific sheets. Plot a histogram of the population counts and explain your observations. Do not use a log-scale plot for now. What does this histogram tell you about urban and rural communes in Switzerland? Are there any clear outliers on either side, and if so, which communes?\n",
    "\n",
    "__C)__ The figure below represents 4 types of histogram. At this stage, our distribution should look like Fig.(a). A common way to represent [power-laws](https://en.wikipedia.org/wiki/Power_law) is to use a histogram using a log-log scale  -- remember: the x-axis of an histogram is segmented in bins of equal sizes and y-values are the average of each bin. As shown in Fig.(b), small bins sizes might introduce artifacts. Fig.(b) and Fig.(c) are examples of histograms with two different bin sizes. Another great way to visualize such distribution is to use a cumulative representation, as show in Fig.(d), in which the y-axis represents the number of data points with values greater than y.  \n",
    "  \n",
    "Create the figures (b) and (d) using the data extracted for task 1B. For Fig.(b), represent two histograms using two different bin sizes and provide a brief description of the results. What does this tell you about the relationship between the two variables, namely the frequency of each bin and the value (i.e. population in case of the communal data) for each bin?\n",
    "\n",
    "<img src=\"plaw_crop.png\" style=\"width: 600px;\">\n",
    "  \n",
    "The figure is extracted from [this paper](https://arxiv.org/pdf/cond-mat/0412004.pdf) that contains more information about this family of distributions."
   ]
  },
  {
   "cell_type": "markdown",
   "metadata": {},
   "source": [
    "## Task 2: Parties visualized\n",
    "\n",
    "We provide a spreadsheet, `data/voters.xls`, (again) collected from [admin.ch](https://www.bfs.admin.ch/bfs/fr/home/statistiques/politique/elections/conseil-national/force-partis.assetdetail.217195.html), which contains the percentage of voters for each party and for each canton. For the following task, we will focus on the period 2014-2018 (the first page of the spreadsheet). Please report any assumptions you make regarding outliers, missing values, etc. Notice that data is missing for two cantons, namely Appenzell Ausserrhoden and Graubünden, and your visualisations should include data for every other canton.\n",
    "\n",
    "\n",
    "__A)__ For the period 2014-2018 and for each canton, visualize, on the map, **the percentage of voters** in that canton who voted for the party [`UDC`](https://en.wikipedia.org/wiki/Swiss_People%27s_Party) (Union démocratique du centre). Does this party seem to be more popular in the German-speaking part, the French-speaking part, or the Italian-speaking part?\n",
    "\n",
    "__B)__ For the same period, now visualize **the number of residents** in each canton who voted for UDC.\n",
    "\n",
    "__C)__ Which one of the two visualizations above would be more informative in case of a national election with majority voting (i.e. when a party needs to have the largest number of citizens voting for it among all parties)? Which one is more informative for the cantonal parliament elections?\n",
    "\n",
    "For part B, you can use the `data/national_council_elections.xslx` file ([guess where we got it from](https://www.bfs.admin.ch/bfs/fr/home/statistiques/politique/elections/conseil-national/participation.assetdetail.81625.html)) to have the voting-eligible population of each canton in 2015."
   ]
  },
  {
   "cell_type": "code",
   "execution_count": null,
   "metadata": {},
   "outputs": [],
   "source": [
    "voters = pd.read_excel(data_folder + 'voters.xls')\n",
    "voters"
   ]
  },
  {
   "cell_type": "code",
   "execution_count": null,
   "metadata": {
    "scrolled": false
   },
   "outputs": [],
   "source": [
    "#we load the voters dataset\n",
    "voters = pd.read_excel(data_folder + 'voters.xls')\n",
    "\n",
    "#we load the cantons dataset\n",
    "cantons = pd.read_csv(data_folder + 'cantons.csv')\n",
    "\n",
    "#Cleaning of the dataset\n",
    "\n",
    "#First we want to drop all the rows full of NaN\n",
    "#Creation of a new df\n",
    "voters_noNaN = voters.drop(voters.index[0:3])\n",
    "\n",
    "#We drop the first column in order to have rowa full of NaN and be able to use classic pandas functions \n",
    "voters_noNaN = voters_noNaN.drop(voters_noNaN.columns[0],axis=1)\n",
    "\n",
    "#drop the NaN rows...\n",
    "voters_noNaN=voters_noNaN.dropna(axis=0,how='all')\n",
    "\n",
    "#We keep the column index of or original dataframe that corresponds to the one of the non-NaN df\n",
    "voters=voters.iloc[voters_noNaN.index]\n",
    "\n",
    "#Now we can drop the columns full of NaN\n",
    "voters=voters.dropna(axis=1,how='all')\n",
    "\n",
    "#The rest of NaN values corresponds to state where the political part is not present i.e. there was 0 voters so we replace NaN by null\n",
    "voters=voters.fillna(0)\n",
    "\n",
    "#We rename the columns with corresponding labels\n",
    "voters.columns = ['Cantons', 'Année électorale', 'Participation', 'PLR', 'PDC', 'PS','UDC','PLS','PEV','PCS','PVL','PBD','PST','PSA','PES','AVF','Sol.','DS','UDF','Lega','MCR','Autres','Total']\n",
    "\n",
    "#Reset in the index in order to be able to concatenate our dataframe with cantons dataframe\n",
    "voters.reset_index(drop=True,inplace =True)\n",
    "\n",
    "#Concatenation\n",
    "left = voters\n",
    "right = cantons\n",
    "left.join(right,sort = False)\n",
    "result=pd.concat([left,right],axis=1,sort=False)\n",
    "\n",
    "#We convert the population data into float in order to be able to do operations on it\n",
    "result['Population']= result['Population'].apply(lambda row: float(row.replace(\",\",\"\")[:-4]))\n",
    "\n",
    "#Since the column 'Canton of' is redundant we use it to create a new columns equal to the number of UDC voters\n",
    "result['Canton of'] = result['Population']*result['Participation']*result['UDC']*0.0001\n",
    "result.rename(columns={'Canton of':'UDC voters'}, inplace=True)\n",
    "\n",
    "\n",
    "\n",
    "\n",
    "\n",
    "\n",
    "\n",
    "\n",
    "\n",
    "#Creation of CSV file to use with folium\n",
    "result.to_csv('result.csv')\n",
    "result_csv = r'result.csv'\n",
    "result_data=pd.read_csv(result_csv)\n",
    "result_data.drop(result_data.columns[0],axis=1,inplace=True)\n",
    "\n",
    "\n",
    "result"
   ]
  },
  {
   "cell_type": "code",
   "execution_count": null,
   "metadata": {},
   "outputs": [],
   "source": [
    "#Data visualization for UDC vote percentage by canton\n",
    "cantons_data= json.load(open(data_folder + 'ch-cantons.topojson.json'))\n",
    "\n",
    "m = folium.Map([47, 8.33],tiles='cartodbpositron', zoom_start=7)\n",
    "\n",
    "\n",
    "\n",
    "\n",
    "m.choropleth(\n",
    " geo_data=cantons_data,\n",
    " topojson='objects.cantons',   \n",
    " name='choropleth',\n",
    " data=result_data,\n",
    " columns=['Code', 'UDC'],\n",
    " key_on='feature.id',\n",
    " fill_color='YlGn',\n",
    " fill_opacity=0.7,\n",
    " line_opacity=0.2,\n",
    " legend_name='UDC vote Rate (%)'\n",
    ")\n",
    "folium.LayerControl().add_to(m)\n",
    "\n",
    "m.save('UDC vote rate.html')"
   ]
  },
  {
   "cell_type": "code",
   "execution_count": null,
   "metadata": {
    "scrolled": true
   },
   "outputs": [],
   "source": [
    "#Data visualization for number of UDC voters by canton\n",
    "\n",
    "m = folium.Map([47, 8.33],tiles='cartodbpositron', zoom_start=7)\n",
    "\n",
    "\n",
    "m.choropleth(\n",
    " geo_data=cantons_data,\n",
    " topojson='objects.cantons',   \n",
    " name='choropleth',\n",
    " data=result,\n",
    " columns=['Code', 'UDC voters'],\n",
    " key_on='feature.id',\n",
    " fill_color='YlGn',\n",
    " fill_opacity=0.7,\n",
    " line_opacity=0.2,\n",
    " legend_name='Number of UDC voters',\n",
    " threshold_scale=[0,10000,30000,60000, 90000,120000]\n",
    ")\n",
    "folium.LayerControl().add_to(m)\n",
    "m.save('UDC voters number.html')"
   ]
  },
  {
   "cell_type": "code",
   "execution_count": null,
   "metadata": {
    "scrolled": true
   },
   "outputs": [],
   "source": [
    "#Does this party seem to be more popular in the German-speaking part, the French-speaking part, or the Italian-speaking part?\n",
    "#ATTENTION J'AI EU BCP DE MAL A FAIRE CETTE MAP QUI N'EST PAS DEMANDEE ! DU COUP C'EST PAS OPTI\n",
    "\n",
    "\n",
    "german_part = result['Official languages'] == 'German'\n",
    "french_part = result['Official languages'] == 'French'\n",
    "italian_part = result['Official languages'] == 'Italian'\n",
    "\n",
    "result['Population']=result['Participation']*result['Population']/100\n",
    "\n",
    "german_swiss_UDC_popularity=result[german_part]['UDC voters'].sum()/result[german_part]['Population'].sum()\n",
    "french_swiss_UDC_popularity=result[french_part]['UDC voters'].sum()/result[french_part]['Population'].sum()\n",
    "italian_swiss_UDC_popularity=result[italian_part]['UDC voters'].sum()/result[french_part]['Population'].sum()\n",
    "\n",
    "result_french=result[french_part]\n",
    "\n",
    "result_german=result[german_part]\n",
    "\n",
    "result_italian=result[italian_part]\n",
    "result"
   ]
  },
  {
   "cell_type": "code",
   "execution_count": null,
   "metadata": {},
   "outputs": [],
   "source": [
    "result_french.loc[:,'Participation']=french_swiss_UDC_popularity\n",
    "result_german.loc[:,'Participation']=german_swiss_UDC_popularity\n",
    "result_italian.loc[:,'Participation']=italian_swiss_UDC_popularity\n",
    "\n",
    "print(french_swiss_UDC_popularity)\n",
    "print(german_swiss_UDC_popularity)\n",
    "print(italian_swiss_UDC_popularity)"
   ]
  },
  {
   "cell_type": "code",
   "execution_count": null,
   "metadata": {},
   "outputs": [],
   "source": [
    "frames = [result_french,result_german,result_italian]\n",
    "frenchvsgermanpopularity=pd.concat(frames)\n",
    "frenchvsgermanpopularity"
   ]
  },
  {
   "cell_type": "code",
   "execution_count": null,
   "metadata": {},
   "outputs": [],
   "source": [
    "result['Participation'].iloc[frenchvsgermanpopularity.index]=frenchvsgermanpopularity['Participation']*100\n",
    "\n",
    "result.loc [[1,9,22],['Participation']]= 0.0\n",
    "result"
   ]
  },
  {
   "cell_type": "code",
   "execution_count": null,
   "metadata": {
    "scrolled": false
   },
   "outputs": [],
   "source": [
    "m = folium.Map([47, 8.33],tiles='cartodbpositron', zoom_start=7)\n",
    "\n",
    "\n",
    "\n",
    "m.choropleth(\n",
    " geo_data=cantons_data,\n",
    " topojson='objects.cantons',   \n",
    " name='choropleth',\n",
    " data=result,\n",
    " columns=['Code', 'Participation'],\n",
    " key_on='feature.id',\n",
    " fill_color='YlGn',\n",
    " fill_opacity=0.7,\n",
    " line_opacity=0.1,\n",
    " legend_name='UDC vote Rate in german and french speaking Switzerland(%)',\n",
    " threshold_scale=[0,5,10,15,20,25]\n",
    " \n",
    ")\n",
    "folium.LayerControl().add_to(m)\n",
    "m.save('UDC vote rate GERvsFR.html')"
   ]
  },
  {
   "cell_type": "markdown",
   "metadata": {},
   "source": [
    "Which one of the two visualizations above would be more informative in case of a national election with majority voting (i.e. when a party needs to have the largest number of citizens voting for it among all parties)? Which one is more informative for the cantonal parlement elections?\n",
    "\n",
    "In case of a national election with majority voting it is clearly the visualization of part B with the raw voters number that is the more usefull. The only problem is that the reader need to have an idea of the voters total population in order to understand the numbers on this map. It is good to be able to see that UDC can have 30 000 voters in one canton but if the PS have 50 000 UDC will not win despite the impressive number... Thus, percentage is often more clear unlike my explanation.\n",
    "\n",
    "On the other hand, for the cantonal parlement elections, it is the popularity of the party by cantons that will be important and the visualization of part A."
   ]
  },
  {
   "cell_type": "code",
   "execution_count": null,
   "metadata": {},
   "outputs": [],
   "source": []
  },
  {
   "cell_type": "code",
   "execution_count": null,
   "metadata": {},
   "outputs": [],
   "source": []
  }
 ],
 "metadata": {
  "kernelspec": {
   "display_name": "Python [default]",
   "language": "python",
   "name": "python3"
  },
  "language_info": {
   "codemirror_mode": {
    "name": "ipython",
    "version": 3
   },
   "file_extension": ".py",
   "mimetype": "text/x-python",
   "name": "python",
   "nbconvert_exporter": "python",
   "pygments_lexer": "ipython3",
   "version": "3.6.6"
  }
 },
 "nbformat": 4,
 "nbformat_minor": 2
}
