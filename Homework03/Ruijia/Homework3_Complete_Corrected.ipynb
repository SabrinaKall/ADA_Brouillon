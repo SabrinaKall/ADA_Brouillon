{
 "cells": [
  {
   "cell_type": "markdown",
   "metadata": {},
   "source": [
    "# ADA 2018 - Homework 3\n",
    "\n",
    "\n",
    "\n",
    "## Undestanding the StackOverflow community\n",
    "\n",
    "\n",
    "Deadline: Nov 7th 2018, 23:59:59\n",
    "\n",
    "Submission link: Check channel homework-3-public"
   ]
  },
  {
   "cell_type": "markdown",
   "metadata": {},
   "source": [
    "StackOverflow is the most popular programming-related Q&A website. It serves as a platform for users to ask and answer questions and to vote questions and answers up or down. Users of StackOverflow can earn reputation points and \"badges\"; for example, a person is awarded 10 reputation points for receiving an \"up\" vote on an answer given to a question, and 5 points for the \"up\" vote on a question asked. Also, users receive badges for their valued contributions, which represents a kind of gamification of the traditional Q&A site. \n",
    "\n",
    "[Learn more about StackOverflow on Wikipedia](https://en.wikipedia.org/wiki/Stack_Overflow)\n",
    "\n",
    "----\n",
    "\n",
    "Dataset link:\n",
    "\n",
    "https://drive.google.com/open?id=1POlGjqzw9v_pZ_bUnXGihOgk45kbvNjB\n",
    "\n",
    "http://iccluster053.iccluster.epfl.ch/Posts.json.zip (mirror 1)\n",
    "\n",
    "https://iloveadatas.com/datasets/Posts.json.zip (mirror 2)\n",
    "\n",
    "Dataset description:\n",
    "\n",
    "* **Id**: Id of the post\n",
    "* **CreationDate**: Creation date of the post (String format)\n",
    "* **PostTypeId**: Type of post (Question = 1, Answer = 2)\n",
    "* **ParentId**: The id of the question. Only present if PostTypeId = 2\n",
    "* **Score**: Points assigned by the users\n",
    "* **Tags**: Tags of the question. Only present if PostTypeId = 1\n",
    "* **Title**: Only present if PostTypeId = 1\n",
    "* **ViewCount**: Only present if PostTypeId = 1\n",
    "\n",
    "The dataset format is JSON. Here are examples of a question and an answer:\n",
    "\n",
    "Question:\n",
    "```json\n",
    "{\n",
    "    \"Id\": 10130734,\n",
    "    \"CreationDate\": \"2012-04-12T19:51:25.793+02:00\",\n",
    "    \"PostTypeId\": 1,\n",
    "    \"Score\": 4,\n",
    "    \"Tags\": \"<python><pandas>\",\n",
    "    \"Title\": \"Best way to insert a new value\",\n",
    "    \"ViewCount\": 3803\n",
    "}\n",
    "```\n",
    "\n",
    "Answer:\n",
    "```json\n",
    "{  \n",
    "   \"CreationDate\":\"2010-10-26T03:19:05.063+02:00\",\n",
    "   \"Id\":4020440,\n",
    "   \"ParentId\":4020214,\n",
    "   \"PostTypeId\":2,\n",
    "   \"Score\":1\n",
    "}\n",
    "```\n",
    "\n",
    "----\n",
    "Useful resources:\n",
    "\n",
    "**Spark SQL, DataFrames and Datasets Guide**\n",
    "\n",
    "https://spark.apache.org/docs/latest/sql-programming-guide.html\n",
    "\n",
    "**Database schema documentation for the public data dump**\n",
    "\n",
    "https://meta.stackexchange.com/questions/2677/database-schema-documentation-for-the-public-data-dump-and-sede\n",
    "\n",
    "----\n",
    "\n",
    "**Note:** Use Spark where possible. Some computations can take more than 10 minutes on a common notebook. Consider to save partial results on disk."
   ]
  },
  {
   "cell_type": "code",
   "execution_count": 20,
   "metadata": {},
   "outputs": [],
   "source": [
    "import re\n",
    "import pandas as pd\n",
    "import numpy as np\n",
    "import seaborn as sns\n",
    "import matplotlib\n",
    "import matplotlib.pyplot as plt\n",
    "%matplotlib inline\n",
    "\n",
    "import findspark\n",
    "import zipfile\n",
    "findspark.init(r'C:\\Users\\Ruijia\\Spark')\n",
    "\n",
    "from matplotlib.ticker import MultipleLocator, FormatStrFormatter\n",
    "\n",
    "from pyspark.sql import *\n",
    "from pyspark.sql.functions import *\n",
    "from pyspark.sql.functions import min\n",
    "from pyspark.sql.functions import udf\n",
    "from pyspark.sql.functions import split\n",
    "from pyspark.sql.functions import explode\n",
    "\n",
    "from pyspark.sql.types import StringType\n",
    "from pyspark.sql.types import TimestampType\n",
    "\n",
    "from pyspark.sql import SparkSession\n",
    "from pyspark import SparkContext\n",
    "\n",
    "from math import floor\n",
    "\n",
    "from datetime import datetime\n",
    "\n",
    "spark = SparkSession.builder.getOrCreate()\n",
    "sc = spark.sparkContext\n",
    "\n",
    "DATA_DIR = 'data/'"
   ]
  },
  {
   "cell_type": "code",
   "execution_count": 8,
   "metadata": {},
   "outputs": [],
   "source": [
    "#Variable to select either questions or answers in dataframe\n",
    "QUESTION_ID = 1\n",
    "ANSWER_ID = 2"
   ]
  },
  {
   "cell_type": "markdown",
   "metadata": {},
   "source": [
    "### Task A: Convert the dataset to a more convenient format\n",
    "As a warm-up task (and to avoid to warm up your laptop too much), load the dataset into a Spark dataframe, show the content, and save it in the _Parquet_ format. Use this step to convert the fields to a more convenient form.\n",
    "\n",
    "Answer the following questions:\n",
    "\n",
    "1. How many questions have been asked on StackOverflow?\n",
    "2. How many answers have been given?\n",
    "3. What is the percentage of questions with a score of 0?\n",
    "\n",
    "**Hint:** The next tasks involve a time difference. Consider storing time in numeric format.\n",
    "\n",
    "**Hint:** Load the dataset from the Parquet file for the next tasks."
   ]
  },
  {
   "cell_type": "code",
   "execution_count": 3,
   "metadata": {},
   "outputs": [
    {
     "name": "stdout",
     "output_type": "stream",
     "text": [
      "+--------------------+-------+--------+----------+-----+--------------------+--------------------+---------+\n",
      "|        CreationDate|     Id|ParentId|PostTypeId|Score|                Tags|               Title|ViewCount|\n",
      "+--------------------+-------+--------+----------+-----+--------------------+--------------------+---------+\n",
      "|2010-10-26T03:17:...|4020437|    null|         1|    0|<asp.net-mvc><jqu...|display jquery di...|      510|\n",
      "|2010-10-26T03:18:...|4020438|    null|         1|    0|<javascript><html...|Why can only my m...|       62|\n",
      "|2010-10-26T03:19:...|4020440| 4020214|         2|    1|                null|                null|     null|\n",
      "|2010-10-26T03:19:...|4020441| 3938154|         2|    0|                null|                null|     null|\n",
      "|2010-10-26T03:20:...|4020443| 4020419|         2|  324|                null|                null|     null|\n",
      "+--------------------+-------+--------+----------+-----+--------------------+--------------------+---------+\n",
      "only showing top 5 rows\n",
      "\n"
     ]
    }
   ],
   "source": [
    "#Load the data\n",
    "posts_rdd = spark.read.json(DATA_DIR + \"Posts.json\")\n",
    "\n",
    "#Display dataset\n",
    "posts_rdd.show(5)"
   ]
  },
  {
   "cell_type": "code",
   "execution_count": 4,
   "metadata": {},
   "outputs": [
    {
     "name": "stdout",
     "output_type": "stream",
     "text": [
      "+--------------------+-------+--------+----------+-----+--------------------+--------------------+---------+\n",
      "|        CreationDate|     Id|ParentId|PostTypeId|Score|                Tags|               Title|ViewCount|\n",
      "+--------------------+-------+--------+----------+-----+--------------------+--------------------+---------+\n",
      "|2010-10-26 03:17:...|4020437|    null|         1|    0|<asp.net-mvc><jqu...|display jquery di...|      510|\n",
      "|2010-10-26 03:18:...|4020438|    null|         1|    0|<javascript><html...|Why can only my m...|       62|\n",
      "|2010-10-26 03:19:...|4020440| 4020214|         2|    1|                null|                null|     null|\n",
      "|2010-10-26 03:19:...|4020441| 3938154|         2|    0|                null|                null|     null|\n",
      "|2010-10-26 03:20:...|4020443| 4020419|         2|  324|                null|                null|     null|\n",
      "+--------------------+-------+--------+----------+-----+--------------------+--------------------+---------+\n",
      "only showing top 5 rows\n",
      "\n"
     ]
    }
   ],
   "source": [
    "#CreationDate handling\n",
    "#Changing weird dates and time to TimeStamp spark variable\n",
    "posts_rdd = posts_rdd.withColumn('CreationDate', posts_rdd['CreationDate'].cast(TimestampType()))\n",
    "\n",
    "#Display dataset with corrected time and dates\n",
    "posts_rdd.show(5)"
   ]
  },
  {
   "cell_type": "code",
   "execution_count": 5,
   "metadata": {},
   "outputs": [],
   "source": [
    "#Create Parquet file\n",
    "posts_rdd.write.mode(\"overwrite\").parquet(DATA_DIR + \"Posts.parquet\")"
   ]
  },
  {
   "cell_type": "code",
   "execution_count": 21,
   "metadata": {},
   "outputs": [],
   "source": [
    "#Load and work on Parquet file\n",
    "posts_parquet = spark.read.parquet(DATA_DIR + \"Posts.parquet\")"
   ]
  },
  {
   "cell_type": "markdown",
   "metadata": {},
   "source": [
    "__1. How many questions have been asked on StackOverflow?__"
   ]
  },
  {
   "cell_type": "code",
   "execution_count": 7,
   "metadata": {},
   "outputs": [
    {
     "name": "stdout",
     "output_type": "stream",
     "text": [
      "Number of questions: 15647060\n"
     ]
    }
   ],
   "source": [
    "#Get number of questions\n",
    "questions_num = posts_parquet.filter(posts_parquet.PostTypeId == QUESTION_ID).count()\n",
    "print('Number of questions:', questions_num)"
   ]
  },
  {
   "cell_type": "markdown",
   "metadata": {},
   "source": [
    "__2. How many answers have been given?__"
   ]
  },
  {
   "cell_type": "code",
   "execution_count": 8,
   "metadata": {},
   "outputs": [
    {
     "name": "stdout",
     "output_type": "stream",
     "text": [
      "Number of answers: 25192772\n"
     ]
    }
   ],
   "source": [
    "#Get number of answers\n",
    "answers_num = posts_parquet.filter(posts_parquet.PostTypeId == ANSWER_ID).count()\n",
    "print('Number of answers:', answers_num)"
   ]
  },
  {
   "cell_type": "markdown",
   "metadata": {},
   "source": [
    "__3. What is the percentage of questions with a score of 0?__\n",
    "\n",
    "Note that we interpreted the question as meaning \"out of all questions, how many have the score 0\"."
   ]
  },
  {
   "cell_type": "code",
   "execution_count": 10,
   "metadata": {},
   "outputs": [
    {
     "name": "stdout",
     "output_type": "stream",
     "text": [
      "Proportion of questions with a score of 0: 46.54 %\n"
     ]
    }
   ],
   "source": [
    "#Get proportion of answers with score 0\n",
    "zero_questions = posts_parquet\\\n",
    "                    .filter(posts_parquet.PostTypeId == QUESTION_ID)\\\n",
    "                    .filter(posts_parquet.Score == 0)\\\n",
    "                    .count()*100/questions_num\n",
    "print('Proportion of questions with a score of 0:', \"%.2f\" % zero_questions, '%')"
   ]
  },
  {
   "cell_type": "markdown",
   "metadata": {},
   "source": [
    "### Task B: What are the 10 most popular tags?\n",
    "\n",
    "What are the most popular tags in StackOverflow? Use Spark to extract the information you need, and answer the following questions with Pandas and Matplotlib (or Seaborn):\n",
    "\n",
    "1. What is the proportion of tags that appear in fewer than 100 questions?\n",
    "2. Plot the distribution of the tag counts using an appropriate representation.\n",
    "3. Plot a bar chart with the number of questions for the 10 most popular tags.\n",
    "\n",
    "For each task describe your findings briefly."
   ]
  },
  {
   "cell_type": "code",
   "execution_count": 11,
   "metadata": {
    "scrolled": true
   },
   "outputs": [
    {
     "name": "stdout",
     "output_type": "stream",
     "text": [
      "+--------+------------+\n",
      "|      Id|        Tags|\n",
      "+--------+------------+\n",
      "|45740348|       flash|\n",
      "|45740348|react-native|\n",
      "|45740355|  postgresql|\n",
      "|45740355|  formatting|\n",
      "|45740355|     plpgsql|\n",
      "+--------+------------+\n",
      "only showing top 5 rows\n",
      "\n"
     ]
    }
   ],
   "source": [
    "#Cleaning and extracting question Id and Tags\n",
    "    #As seen in part A, there are sometime multiple Tags per question Id (each tag in <...>)\n",
    "    #Here, the Tags of the questions are separated into multiple rows with the same Id\n",
    "    \n",
    "tags_rdd = posts_parquet\\\n",
    "                        .filter(posts_parquet.PostTypeId == QUESTION_ID)\\\n",
    "                        .select('Id', 'Tags')\\\n",
    "                        .withColumn('Tags',explode(split('Tags','><')))\\\n",
    "                        .withColumn('Tags',regexp_replace('Tags','[><]', ''))\n",
    "\n",
    "#Display separated and cleaned Tags with respective question Id\n",
    "tags_rdd.show(5)\n",
    "\n",
    "#Create Parquet file\n",
    "#tags_rdd.write.mode(\"overwrite\").parquet(DATA_DIR + \"Tags.parquet\")"
   ]
  },
  {
   "cell_type": "code",
   "execution_count": 12,
   "metadata": {},
   "outputs": [],
   "source": [
    "#Load and work on Parquet file\n",
    "#tags_parquet = spark.read.parquet(DATA_DIR + \"Tags.parquet\")"
   ]
  },
  {
   "cell_type": "code",
   "execution_count": 13,
   "metadata": {},
   "outputs": [
    {
     "name": "stdout",
     "output_type": "stream",
     "text": [
      "+------------+---------------+\n",
      "|        Tags|Tags_Occurrence|\n",
      "+------------+---------------+\n",
      "|   arguments|           7157|\n",
      "|      iframe|          26125|\n",
      "|google-earth|            816|\n",
      "|        rxjs|           7960|\n",
      "|       input|          22045|\n",
      "+------------+---------------+\n",
      "only showing top 5 rows\n",
      "\n"
     ]
    }
   ],
   "source": [
    "#Proportion of tags that appear in less than 100 questions\n",
    "tags_count = tags_rdd\\\n",
    "                .groupby('Tags')\\\n",
    "                .count()\\\n",
    "                .selectExpr('Tags as Tags', 'count as Tags_Occurrence') #rename the columns\n",
    "\n",
    "#Display tags and corresponding occurence in questions\n",
    "tags_count.show(5)"
   ]
  },
  {
   "cell_type": "markdown",
   "metadata": {},
   "source": [
    "__1. What is the proportion of tags that appear in fewer than 100 questions?__\n",
    "\n",
    "Two third of the tags appear in less than 100 questions. This means that considering all possible tags, most of them are rarely used. Only a few part of them (at least one third) is often used."
   ]
  },
  {
   "cell_type": "code",
   "execution_count": 14,
   "metadata": {},
   "outputs": [
    {
     "name": "stdout",
     "output_type": "stream",
     "text": [
      "Proportion of tags that appear in less than 100 questions: 67.98 %\n"
     ]
    }
   ],
   "source": [
    "#Calculation proportion of tags that appear in less than 100 questions\n",
    "tags100_prop = tags_count\\\n",
    "                .filter(tags_count.Tags_Occurrence < 100)\\\n",
    "                .count()*100/tags_count.count()\n",
    "\n",
    "print('Proportion of tags that appear in less than 100 questions:', \"%.2f\" % tags100_prop, '%')"
   ]
  },
  {
   "cell_type": "markdown",
   "metadata": {},
   "source": [
    "__2. Plot the distribution of the tag counts using an appropriate representation.__\n",
    "\n",
    "As discussed previously, this histogram shows that most of the tags are rarely used. Only few tags have a high usage."
   ]
  },
  {
   "cell_type": "code",
   "execution_count": 15,
   "metadata": {},
   "outputs": [
    {
     "data": {
      "text/plain": [
       "<matplotlib.axes._subplots.AxesSubplot at 0x21c529e73c8>"
      ]
     },
     "execution_count": 15,
     "metadata": {},
     "output_type": "execute_result"
    },
    {
     "data": {
      "image/png": "[encoded data removed]",
      "text/plain": [
       "<Figure size 720x504 with 1 Axes>"
      ]
     },
     "metadata": {
      "needs_background": "light"
     },
     "output_type": "display_data"
    }
   ],
   "source": [
    "#Plot the frequency at which a tag appear in a certain number of questions\n",
    "tags_count.toPandas().plot(\n",
    "                        kind='hist',\n",
    "                        by='Tags_Occurrence',\n",
    "                        title='Distribution of tags occurrence',\n",
    "                        logy=True,\n",
    "                        figsize=(10, 7)\n",
    "                        )"
   ]
  },
  {
   "cell_type": "markdown",
   "metadata": {},
   "source": [
    "__3. Plot a bar chart with the number of questions for the 10 most popular tags.__\n",
    "\n",
    "The most used tags represent progamming languages or common operating system. This is not surprising at all since they are really general tags."
   ]
  },
  {
   "cell_type": "code",
   "execution_count": 17,
   "metadata": {},
   "outputs": [
    {
     "data": {
      "text/plain": [
       "<matplotlib.axes._subplots.AxesSubplot at 0x21c52935978>"
      ]
     },
     "execution_count": 17,
     "metadata": {},
     "output_type": "execute_result"
    },
    {
     "data": {
      "image/png": "[encoded data removed]",
      "text/plain": [
       "<Figure size 432x288 with 1 Axes>"
      ]
     },
     "metadata": {
      "needs_background": "light"
     },
     "output_type": "display_data"
    }
   ],
   "source": [
    "#Select 10 most popular tags overall (questions and answers)\n",
    "#(Chose \"sort + limit\" over \"top\" function to avoid unnecessary conversions)\n",
    "top10_tags = tags_count\\\n",
    "                .sort(desc('Tags_Occurrence'))\\\n",
    "                .select('Tags')\\\n",
    "                .limit(10)\n",
    "\n",
    "#Filter question Id associated to each tag\n",
    "top10_tags_ids = top10_tags\\\n",
    "                    .join(tags_rdd, on=['Tags'])\\\n",
    "                    .groupby('Tags')\\\n",
    "                    .count()\\\n",
    "                    .selectExpr('Tags as Tags', 'count as Tags_Number')\\\n",
    "                    .sort(desc('Tags_Number'))\n",
    "\n",
    "#Display results in bar chart\n",
    "top10_tags_ids.toPandas().plot(\n",
    "                            kind='bar',\n",
    "                            x='Tags',\n",
    "                            y='Tags_Number',\n",
    "                            title='Number of questions for the 10 most popular tags'\n",
    "                            )"
   ]
  },
  {
   "cell_type": "markdown",
   "metadata": {},
   "source": [
    "### Task C: View-score relation\n",
    "\n",
    "We want to investigate the correlation between the view count and the score of questions.\n",
    "\n",
    "1. Get the view count and score of the questions with tag ```random-effects``` and visualize the relation between these two variables using an appropriate plot.\n",
    "2. Are these two variables correlated? Use the Pearson coefficient to validate your hypothesis. Discuss your findings in detail.\n",
    "\n",
    "**Hint:** Inspect the data visually before drawing your conclusions."
   ]
  },
  {
   "cell_type": "code",
   "execution_count": 12,
   "metadata": {},
   "outputs": [
    {
     "data": {
      "text/html": [
       "<div>\n",
       "<style scoped>\n",
       "    .dataframe tbody tr th:only-of-type {\n",
       "        vertical-align: middle;\n",
       "    }\n",
       "\n",
       "    .dataframe tbody tr th {\n",
       "        vertical-align: top;\n",
       "    }\n",
       "\n",
       "    .dataframe thead th {\n",
       "        text-align: right;\n",
       "    }\n",
       "</style>\n",
       "<table border=\"1\" class=\"dataframe\">\n",
       "  <thead>\n",
       "    <tr style=\"text-align: right;\">\n",
       "      <th></th>\n",
       "      <th>Score</th>\n",
       "      <th>ViewCount</th>\n",
       "    </tr>\n",
       "  </thead>\n",
       "  <tbody>\n",
       "    <tr>\n",
       "      <th>0</th>\n",
       "      <td>0</td>\n",
       "      <td>12</td>\n",
       "    </tr>\n",
       "    <tr>\n",
       "      <th>1</th>\n",
       "      <td>0</td>\n",
       "      <td>495</td>\n",
       "    </tr>\n",
       "    <tr>\n",
       "      <th>2</th>\n",
       "      <td>0</td>\n",
       "      <td>220</td>\n",
       "    </tr>\n",
       "    <tr>\n",
       "      <th>3</th>\n",
       "      <td>0</td>\n",
       "      <td>21</td>\n",
       "    </tr>\n",
       "    <tr>\n",
       "      <th>4</th>\n",
       "      <td>5</td>\n",
       "      <td>126</td>\n",
       "    </tr>\n",
       "    <tr>\n",
       "      <th>5</th>\n",
       "      <td>-1</td>\n",
       "      <td>61</td>\n",
       "    </tr>\n",
       "    <tr>\n",
       "      <th>6</th>\n",
       "      <td>0</td>\n",
       "      <td>196</td>\n",
       "    </tr>\n",
       "    <tr>\n",
       "      <th>7</th>\n",
       "      <td>1</td>\n",
       "      <td>131</td>\n",
       "    </tr>\n",
       "    <tr>\n",
       "      <th>8</th>\n",
       "      <td>2</td>\n",
       "      <td>487</td>\n",
       "    </tr>\n",
       "    <tr>\n",
       "      <th>9</th>\n",
       "      <td>4</td>\n",
       "      <td>125</td>\n",
       "    </tr>\n",
       "  </tbody>\n",
       "</table>\n",
       "</div>"
      ],
      "text/plain": [
       "   Score  ViewCount\n",
       "0      0         12\n",
       "1      0        495\n",
       "2      0        220\n",
       "3      0         21\n",
       "4      5        126\n",
       "5     -1         61\n",
       "6      0        196\n",
       "7      1        131\n",
       "8      2        487\n",
       "9      4        125"
      ]
     },
     "execution_count": 12,
     "metadata": {},
     "output_type": "execute_result"
    }
   ],
   "source": [
    "#Extract view count and score of questions with 'random-effects' tag\n",
    "view_score_rdd = posts_parquet\\\n",
    "                    .filter(posts_parquet.PostTypeId == 1)\\\n",
    "                    .select('Id', 'Score', 'Tags', 'ViewCount')\\\n",
    "                    .withColumn('Tags',explode(split('Tags','><')))\\\n",
    "                    .withColumn('Tags',regexp_replace('Tags','[><]', ''))\\\n",
    "                    .filter(\"Tags like 'random-effects'\")\\\n",
    "                    .drop('Id', 'Tags')\n",
    "\n",
    "#Create Pandas dataframe for plotting\n",
    "view_score_pandas = view_score_rdd.toPandas()\n",
    "view_score_pandas.head(10)"
   ]
  },
  {
   "cell_type": "code",
   "execution_count": 13,
   "metadata": {},
   "outputs": [
    {
     "data": {
      "text/html": [
       "<div>\n",
       "<style scoped>\n",
       "    .dataframe tbody tr th:only-of-type {\n",
       "        vertical-align: middle;\n",
       "    }\n",
       "\n",
       "    .dataframe tbody tr th {\n",
       "        vertical-align: top;\n",
       "    }\n",
       "\n",
       "    .dataframe thead th {\n",
       "        text-align: right;\n",
       "    }\n",
       "</style>\n",
       "<table border=\"1\" class=\"dataframe\">\n",
       "  <thead>\n",
       "    <tr style=\"text-align: right;\">\n",
       "      <th></th>\n",
       "      <th>Score</th>\n",
       "      <th>ViewCount</th>\n",
       "    </tr>\n",
       "  </thead>\n",
       "  <tbody>\n",
       "    <tr>\n",
       "      <th>count</th>\n",
       "      <td>100.000000</td>\n",
       "      <td>100.000000</td>\n",
       "    </tr>\n",
       "    <tr>\n",
       "      <th>mean</th>\n",
       "      <td>1.500000</td>\n",
       "      <td>1191.830000</td>\n",
       "    </tr>\n",
       "    <tr>\n",
       "      <th>std</th>\n",
       "      <td>4.154832</td>\n",
       "      <td>5037.166977</td>\n",
       "    </tr>\n",
       "    <tr>\n",
       "      <th>min</th>\n",
       "      <td>-2.000000</td>\n",
       "      <td>10.000000</td>\n",
       "    </tr>\n",
       "    <tr>\n",
       "      <th>25%</th>\n",
       "      <td>0.000000</td>\n",
       "      <td>64.250000</td>\n",
       "    </tr>\n",
       "    <tr>\n",
       "      <th>50%</th>\n",
       "      <td>0.000000</td>\n",
       "      <td>179.000000</td>\n",
       "    </tr>\n",
       "    <tr>\n",
       "      <th>75%</th>\n",
       "      <td>1.000000</td>\n",
       "      <td>534.000000</td>\n",
       "    </tr>\n",
       "    <tr>\n",
       "      <th>max</th>\n",
       "      <td>31.000000</td>\n",
       "      <td>42678.000000</td>\n",
       "    </tr>\n",
       "  </tbody>\n",
       "</table>\n",
       "</div>"
      ],
      "text/plain": [
       "            Score     ViewCount\n",
       "count  100.000000    100.000000\n",
       "mean     1.500000   1191.830000\n",
       "std      4.154832   5037.166977\n",
       "min     -2.000000     10.000000\n",
       "25%      0.000000     64.250000\n",
       "50%      0.000000    179.000000\n",
       "75%      1.000000    534.000000\n",
       "max     31.000000  42678.000000"
      ]
     },
     "execution_count": 13,
     "metadata": {},
     "output_type": "execute_result"
    }
   ],
   "source": [
    "#View the data\n",
    "view_score_pandas.describe()"
   ]
  },
  {
   "cell_type": "code",
   "execution_count": 14,
   "metadata": {},
   "outputs": [
    {
     "name": "stdout",
     "output_type": "stream",
     "text": [
      "Populating the interactive namespace from numpy and matplotlib\n"
     ]
    },
    {
     "name": "stderr",
     "output_type": "stream",
     "text": [
      "C:\\Users\\Ruijia\\Anaconda2\\envs\\ada\\lib\\site-packages\\IPython\\core\\magics\\pylab.py:160: UserWarning: pylab import has clobbered these variables: ['log2', 'repeat', 'tanh', 'trunc', 'mean', 'split', 'size', 'hypot', 'broadcast', 'array', 'rand', 'tan', 'rint', 'cos', 'cbrt', 'sin', 'sum', 'ceil', 'expm1', 'floor', 'cosh', 'log10', 'sinh', 'log', 'randn', 'rank', 'exp', 'radians', 'isnan', 'degrees', 'log1p', 'datetime', 'sqrt']\n",
      "`%matplotlib` prevents importing * from pylab and numpy\n",
      "  \"\\n`%matplotlib` prevents importing * from pylab and numpy\"\n",
      "C:\\Users\\Ruijia\\Anaconda2\\envs\\ada\\lib\\site-packages\\scipy\\stats\\stats.py:1713: FutureWarning: Using a non-tuple sequence for multidimensional indexing is deprecated; use `arr[tuple(seq)]` instead of `arr[seq]`. In the future this will be interpreted as an array index, `arr[np.array(seq)]`, which will result either in an error or a different result.\n",
      "  return np.add.reduce(sorted[indexer] * weights, axis=axis) / sumval\n"
     ]
    },
    {
     "name": "stdout",
     "output_type": "stream",
     "text": [
      "Relation between Score and View Count:\n",
      " -> Blue line: best fit linear regression\n",
      " -> Shaded zone: Confidence interval for the regession estimate\n"
     ]
    },
    {
     "data": {
      "image/png": "[encoded data removed]",
      "text/plain": [
       "<Figure size 720x432 with 1 Axes>"
      ]
     },
     "metadata": {
      "needs_background": "light"
     },
     "output_type": "display_data"
    }
   ],
   "source": [
    "#Plot the Score in relation to the ViewCount\n",
    "#Note: this will produce a \"FutureWarning\" that does not impact the result for now\n",
    "%pylab inline\n",
    "pylab.rcParams['figure.figsize'] = (10, 6) #increase figure size\n",
    "\n",
    "sns.regplot(x=view_score_pandas['ViewCount'], y=view_score_pandas['Score'])\n",
    "print('Relation between Score and View Count:')\n",
    "print(' -> Blue line: best fit linear regression')\n",
    "print(' -> Shaded zone: Confidence interval for the regession estimate')"
   ]
  },
  {
   "cell_type": "code",
   "execution_count": 15,
   "metadata": {},
   "outputs": [],
   "source": [
    "#We see in the stats (and on the graph) that the max ViewCount is much bigger than the mean, meaning outliers. \n",
    "#We remove these.\n",
    "normal_view_score = view_score_pandas[view_score_pandas['ViewCount']<20000]"
   ]
  },
  {
   "cell_type": "code",
   "execution_count": 16,
   "metadata": {},
   "outputs": [
    {
     "name": "stderr",
     "output_type": "stream",
     "text": [
      "C:\\Users\\Ruijia\\Anaconda2\\envs\\ada\\lib\\site-packages\\scipy\\stats\\stats.py:1713: FutureWarning: Using a non-tuple sequence for multidimensional indexing is deprecated; use `arr[tuple(seq)]` instead of `arr[seq]`. In the future this will be interpreted as an array index, `arr[np.array(seq)]`, which will result either in an error or a different result.\n",
      "  return np.add.reduce(sorted[indexer] * weights, axis=axis) / sumval\n"
     ]
    },
    {
     "name": "stdout",
     "output_type": "stream",
     "text": [
      "Relation between Score and View Count without outliers:\n",
      " -> Blue line: best fit linear regression\n",
      " -> Shaded zone: Confidence interval for the regession estimate\n"
     ]
    },
    {
     "data": {
      "image/png": "[encoded data removed]",
      "text/plain": [
       "<Figure size 720x432 with 1 Axes>"
      ]
     },
     "metadata": {
      "needs_background": "light"
     },
     "output_type": "display_data"
    }
   ],
   "source": [
    "#Plot the Score in relation to the ViewCount without outliers\n",
    "#Note: this will produce a \"FutureWarning\" that does not impact the result for now\n",
    "sns.regplot(x=normal_view_score['ViewCount'], y=normal_view_score['Score'])\n",
    "print('Relation between Score and View Count without outliers:')\n",
    "print(' -> Blue line: best fit linear regression')\n",
    "print(' -> Shaded zone: Confidence interval for the regession estimate')"
   ]
  },
  {
   "cell_type": "code",
   "execution_count": 41,
   "metadata": {},
   "outputs": [
    {
     "name": "stdout",
     "output_type": "stream",
     "text": [
      "Pearson Score:\n"
     ]
    },
    {
     "data": {
      "text/html": [
       "<div>\n",
       "<style scoped>\n",
       "    .dataframe tbody tr th:only-of-type {\n",
       "        vertical-align: middle;\n",
       "    }\n",
       "\n",
       "    .dataframe tbody tr th {\n",
       "        vertical-align: top;\n",
       "    }\n",
       "\n",
       "    .dataframe thead th {\n",
       "        text-align: right;\n",
       "    }\n",
       "</style>\n",
       "<table border=\"1\" class=\"dataframe\">\n",
       "  <thead>\n",
       "    <tr style=\"text-align: right;\">\n",
       "      <th></th>\n",
       "      <th>Score</th>\n",
       "      <th>ViewCount</th>\n",
       "    </tr>\n",
       "  </thead>\n",
       "  <tbody>\n",
       "    <tr>\n",
       "      <th>Score</th>\n",
       "      <td>1.000000</td>\n",
       "      <td>0.882197</td>\n",
       "    </tr>\n",
       "    <tr>\n",
       "      <th>ViewCount</th>\n",
       "      <td>0.882197</td>\n",
       "      <td>1.000000</td>\n",
       "    </tr>\n",
       "  </tbody>\n",
       "</table>\n",
       "</div>"
      ],
      "text/plain": [
       "              Score  ViewCount\n",
       "Score      1.000000   0.882197\n",
       "ViewCount  0.882197   1.000000"
      ]
     },
     "metadata": {},
     "output_type": "display_data"
    },
    {
     "name": "stdout",
     "output_type": "stream",
     "text": [
      "\n",
      "\n",
      "Pearson Score without outliers:\n"
     ]
    },
    {
     "data": {
      "text/html": [
       "<div>\n",
       "<style scoped>\n",
       "    .dataframe tbody tr th:only-of-type {\n",
       "        vertical-align: middle;\n",
       "    }\n",
       "\n",
       "    .dataframe tbody tr th {\n",
       "        vertical-align: top;\n",
       "    }\n",
       "\n",
       "    .dataframe thead th {\n",
       "        text-align: right;\n",
       "    }\n",
       "</style>\n",
       "<table border=\"1\" class=\"dataframe\">\n",
       "  <thead>\n",
       "    <tr style=\"text-align: right;\">\n",
       "      <th></th>\n",
       "      <th>Score</th>\n",
       "      <th>ViewCount</th>\n",
       "    </tr>\n",
       "  </thead>\n",
       "  <tbody>\n",
       "    <tr>\n",
       "      <th>Score</th>\n",
       "      <td>1.000000</td>\n",
       "      <td>0.439389</td>\n",
       "    </tr>\n",
       "    <tr>\n",
       "      <th>ViewCount</th>\n",
       "      <td>0.439389</td>\n",
       "      <td>1.000000</td>\n",
       "    </tr>\n",
       "  </tbody>\n",
       "</table>\n",
       "</div>"
      ],
      "text/plain": [
       "              Score  ViewCount\n",
       "Score      1.000000   0.439389\n",
       "ViewCount  0.439389   1.000000"
      ]
     },
     "metadata": {},
     "output_type": "display_data"
    }
   ],
   "source": [
    "#Pearson coefficients with and without outliers\n",
    "print('Pearson Score:')\n",
    "display(view_score_pandas.corr(method='pearson'))\n",
    "print('\\n')\n",
    "print('Pearson Score without outliers:')\n",
    "display(normal_view_score.corr(method='pearson'))"
   ]
  },
  {
   "cell_type": "markdown",
   "metadata": {},
   "source": [
    "__2. Are these two variables correlated? Use the Pearson coefficient to validate your hypothesis. Discuss your findings in detail.__\n",
    "\n",
    "\n",
    "\n",
    "\n"
   ]
  },
  {
   "cell_type": "markdown",
   "metadata": {},
   "source": [
    "### Task D: What are the tags with the fastest first answer?\n",
    "\n",
    "What are the tags that have the fastest response time from the community? We define the response time as the difference in seconds between the timestamps of the question and of the first answer received.\n",
    "\n",
    "1. Get the response time for the first answer of the questions with the tags ```python``` and ```java```.\n",
    "2. Plot the two distributions in an appropriate format. What do you observe? Describe your findings and discuss the following distribution properties: mean, median, standard deviation.\n",
    "3. We believe that the response time is lower for questions related to Python (compare to Java). Contradict or confirm this assumption by estimating the proper statistic with bootstrapping. Visualize the 95% confidence intervals with box plots and describe your findings.\n",
    "3. Repeat the first analysis (D1) by using the proper statistic to measure the response time for the tags that appear at least 5000 times. Plot the distribution of the 10 tags with the fastest response time.\n"
   ]
  },
  {
   "cell_type": "markdown",
   "metadata": {},
   "source": [
    "__1. Get the response time for the first answer of the questions with the tags python and java.__"
   ]
  },
  {
   "cell_type": "code",
   "execution_count": 22,
   "metadata": {},
   "outputs": [],
   "source": [
    "#Extract questions and answers separatly\n",
    "questions_rdd = posts_parquet.filter('PostTypeId == 1')\n",
    "answers_rdd = posts_parquet.filter('PostTypeId == 2')\n",
    "\n",
    "#Find earliest answer to a question\n",
    "earliest_answers = answers_rdd.groupBy('ParentId').agg(min('CreationDate'))\\\n",
    "                       .withColumnRenamed('ParentId', 'Id').withColumnRenamed('min(CreationDate)', 'AnswerDate')\n",
    "\n",
    "def getMinResponseTime(questions):\n",
    "    q_and_a = questions.join(earliest_answers, 'Id')\n",
    "    return q_and_a.rdd.map(lambda r: (r['AnswerDate'] - r['CreationDate']).total_seconds())"
   ]
  },
  {
   "cell_type": "code",
   "execution_count": 23,
   "metadata": {},
   "outputs": [],
   "source": [
    "#Extract questions and answers about python and java\n",
    "python_questions = questions_rdd.filter(\"Tags like '%<python>%'\").select('Id', 'CreationDate')\n",
    "java_questions = questions_rdd.filter(\"Tags like '%<java>%'\").select('Id', 'CreationDate')"
   ]
  },
  {
   "cell_type": "code",
   "execution_count": 24,
   "metadata": {},
   "outputs": [
    {
     "data": {
      "text/plain": [
       "[7398.97, 5088.38, 510.994, 756.637, 116.33]"
      ]
     },
     "execution_count": 24,
     "metadata": {},
     "output_type": "execute_result"
    }
   ],
   "source": [
    "#Compute response time to questions about python\n",
    "python_response_time = getMinResponseTime(python_questions)\n",
    "python_response_time.take(5) #litte overview"
   ]
  },
  {
   "cell_type": "code",
   "execution_count": 25,
   "metadata": {},
   "outputs": [
    {
     "data": {
      "text/plain": [
       "[1921.887, 439.077, 290.054, 155.953, 3076.006]"
      ]
     },
     "execution_count": 25,
     "metadata": {},
     "output_type": "execute_result"
    }
   ],
   "source": [
    "#Compute response time to questions about java\n",
    "java_response_time = getMinResponseTime(java_questions)\n",
    "java_response_time.take(5) #litte overview"
   ]
  },
  {
   "cell_type": "markdown",
   "metadata": {},
   "source": [
    "__2. Plot the two distributions in an appropriate format. What do you observe? Describe your findings and discuss the following distribution properties: mean, median, standard deviation.__"
   ]
  },
  {
   "cell_type": "code",
   "execution_count": 32,
   "metadata": {},
   "outputs": [],
   "source": [
    "#Change time format and removed negative incoherent values\n",
    "python_time = pd.Series(python_response_time.filter(lambda r: r > 0).collect())"
   ]
  },
  {
   "cell_type": "code",
   "execution_count": 36,
   "metadata": {},
   "outputs": [],
   "source": [
    "#Changed time format and removed negative incoherent values\n",
    "java_time = pd.Series(java_response_time.filter(lambda r: r > 0).collect())"
   ]
  },
  {
   "cell_type": "code",
   "execution_count": 58,
   "metadata": {},
   "outputs": [
    {
     "data": {
      "image/png": "[encoded data removed]",
      "text/plain": [
       "<Figure size 432x288 with 1 Axes>"
      ]
     },
     "metadata": {
      "needs_background": "light"
     },
     "output_type": "display_data"
    }
   ],
   "source": [
    "#Plot the two response time distribution in boxplots with log y-axis\n",
    "time = [python_time, java_time]\n",
    "\n",
    "fig, ax = plt.subplots()\n",
    "ax.boxplot(time, labels=['Python', 'Java'], widths=(0.8))\n",
    "ax.set_yscale('log')"
   ]
  },
  {
   "cell_type": "code",
   "execution_count": 40,
   "metadata": {},
   "outputs": [
    {
     "name": "stdout",
     "output_type": "stream",
     "text": [
      "Means:\n",
      "   Java:  11.56  [days]\n",
      "   Python:  11.39  [days]\n",
      "Medians:\n",
      "   Java:  0.34  [hours]\n",
      "   Python:  0.38  [hours]\n",
      "Std dev:\n",
      "   Java:  82.56  [days]\n",
      "   Python:  79.96  [days]\n",
      "[Java size:   1176830 ]\n",
      "[Python size:  827858 ]\n"
     ]
    }
   ],
   "source": [
    "print('Means:')\n",
    "print('   Java: ', \"%.2f\" % (java_time.mean()/(3600 * 24)), ' [days]')\n",
    "print('   Python: ', \"%.2f\" % (python_time.mean()/(3600 * 24)), ' [days]')\n",
    "\n",
    "print('Medians:')\n",
    "print('   Java: ', \"%.2f\" % (java_time.median()/(3600)), ' [hours]')\n",
    "print('   Python: ', \"%.2f\" % (python_time.median()/(3600)), ' [hours]')\n",
    "\n",
    "print('Std dev:')\n",
    "print('   Java: ', \"%.2f\" % (java_time.std()/(3600 * 24)), ' [days]')\n",
    "print('   Python: ', \"%.2f\" % (python_time.std()/(3600 * 24)), ' [days]')\n",
    "\n",
    "print('[Java size:  ', (java_time.count()), ']')\n",
    "print('[Python size: ', (python_time.count()), ']')"
   ]
  },
  {
   "cell_type": "markdown",
   "metadata": {},
   "source": [
    "__Discussion:__\n",
    "\n",
    "We can see that the distributions of java and python tags are almost identical, even though the java tags has slightly more data.\n",
    "\n",
    "However, we notice that the mean and the median are extremely different. Since we know that means and standard deviations are extremely susceptible to outliers, we can theorize here that there are outliers with very, very late response times of sometimes several weeks to months for both 'Java' and 'Python'."
   ]
  },
  {
   "cell_type": "markdown",
   "metadata": {},
   "source": [
    "__3) We believe that the response time is lower for questions related to Python. Contradict or confirm this assumption by estimating the proper statistic with bootstrapping. Visualize the 95% confidence intervals with box plots and describe your findings.__"
   ]
  },
  {
   "cell_type": "code",
   "execution_count": 59,
   "metadata": {},
   "outputs": [
    {
     "data": {
      "text/plain": [
       "(1000, 2000)"
      ]
     },
     "execution_count": 59,
     "metadata": {},
     "output_type": "execute_result"
    },
    {
     "data": {
      "image/png": "[encoded data removed]",
      "text/plain": [
       "<Figure size 432x288 with 1 Axes>"
      ]
     },
     "metadata": {
      "needs_background": "light"
     },
     "output_type": "display_data"
    }
   ],
   "source": [
    "#plt.boxplot([java_time, python_time], labels=['java', 'python'], bootstrap=100)\n",
    "\n",
    "fig, ax = plt.subplots()\n",
    "ax.boxplot(time, labels=['Python', 'Java'], widths=(0.8), bootstrap=100, notch=True)\n",
    "ax.set_yscale('log')\n",
    "ax.set_ylim([1000,2000])"
   ]
  },
  {
   "cell_type": "markdown",
   "metadata": {},
   "source": [
    "__Discussion:__\n",
    "\n",
    "While Python have a lower mean response time, by zooming on the two boxplot medians and notches, we can say that the median response time is lower for Java and different from Python, within a 95% confidence interval."
   ]
  },
  {
   "cell_type": "markdown",
   "metadata": {},
   "source": [
    "__4. Repeat the first analysis (D1) by using the proper statistic to measure the response time for the tags that appear at least 5000 times. Plot the distribution of the 10 tags with the fastest response time.__"
   ]
  },
  {
   "cell_type": "code",
   "execution_count": 29,
   "metadata": {},
   "outputs": [],
   "source": [
    "common_tags = tags_count.filter(tags_count.Tags_Occurrence >=5000).rdd.map(lambda r: r[0]).collect()"
   ]
  },
  {
   "cell_type": "code",
   "execution_count": 30,
   "metadata": {},
   "outputs": [],
   "source": [
    "question_dates = questions_rdd.select('CreationDate', 'Id', 'Tags')\\\n",
    "                    .rdd.flatMap(lambda r: [(r[0], r[1], g) for g in r[2].split('><')])\\\n",
    "                    .map(lambda r: (r[0], r[1], str(r[2]).replace('<', '').replace('>', '')))\\\n",
    "                    .toDF(['CreationDate', 'Id', 'Tags'])"
   ]
  },
  {
   "cell_type": "code",
   "execution_count": 31,
   "metadata": {},
   "outputs": [],
   "source": [
    "common_tag_questions = question_dates.filter(question_dates['Tags'].isin(common_tags))"
   ]
  },
  {
   "cell_type": "code",
   "execution_count": 32,
   "metadata": {},
   "outputs": [],
   "source": [
    "response_times = common_tag_questions.join(earliest_answers, 'Id')\\\n",
    "                            .rdd.map(lambda r: (r['Tags'], ((r['AnswerDate'] - r['CreationDate']).total_seconds())))"
   ]
  },
  {
   "cell_type": "code",
   "execution_count": 33,
   "metadata": {},
   "outputs": [],
   "source": [
    "fastest_resp = response_times.filter(lambda r: r[1] > 0).takeOrdered(10, key= lambda r: r[1])"
   ]
  },
  {
   "cell_type": "code",
   "execution_count": 34,
   "metadata": {},
   "outputs": [
    {
     "data": {
      "text/plain": [
       "<matplotlib.axes._subplots.AxesSubplot at 0x7efe7de2d6d8>"
      ]
     },
     "execution_count": 34,
     "metadata": {},
     "output_type": "execute_result"
    },
    {
     "data": {
      "image/png": "[encoded data removed]",
      "text/plain": [
       "<Figure size 720x432 with 1 Axes>"
      ]
     },
     "metadata": {},
     "output_type": "display_data"
    }
   ],
   "source": [
    "pd.DataFrame(fastest_resp).rename(columns={0:'Tags', 1:'Response Time'}).set_index('Tags').plot(kind='barh')"
   ]
  },
  {
   "cell_type": "markdown",
   "metadata": {},
   "source": [
    "### Task E: What's up with PySpark?\n",
    "The number of questions asked regarding a specific topic reflect the public’s interest on it. We are interested on the popularity of PySpark. Compute and plot the number of questions with the ```pyspark``` tag for 30-day time intervals. Do you notice any trend over time? Is there any correlation between time and number of questions?\n"
   ]
  },
  {
   "cell_type": "code",
   "execution_count": 35,
   "metadata": {},
   "outputs": [],
   "source": [
    "#Interval calculation: \n",
    "# 60 (seconds) * 60 (minutes) * 24 (hours) * 30 (days)\n",
    "intervall = (60*60*24*30)\n",
    "\n",
    "def getDaysIntervall(dt):\n",
    "    return floor((dt.timestamp())/intervall) * intervall"
   ]
  },
  {
   "cell_type": "code",
   "execution_count": 36,
   "metadata": {},
   "outputs": [],
   "source": [
    "# Add your code and description here\n",
    "thirty_day_quest = questions_rdd.filter(\"Tags like '%<pyspark>%'\")\\\n",
    "                .select('CreationDate').rdd\\\n",
    "                .map(lambda r: (getDaysIntervall(r[0]), 1))\\\n",
    "                .reduceByKey(lambda a,b: a+b)\\\n",
    "                .map(lambda r: (datetime.datetime.fromtimestamp(r[0]), r[1]))\n"
   ]
  },
  {
   "cell_type": "code",
   "execution_count": 40,
   "metadata": {
    "scrolled": true
   },
   "outputs": [
    {
     "data": {
      "text/plain": [
       "<matplotlib.axes._subplots.AxesSubplot at 0x7efe7db1ceb8>"
      ]
     },
     "execution_count": 40,
     "metadata": {},
     "output_type": "execute_result"
    },
    {
     "data": {
      "image/png": "[encoded data removed]",
      "text/plain": [
       "<Figure size 720x432 with 1 Axes>"
      ]
     },
     "metadata": {},
     "output_type": "display_data"
    }
   ],
   "source": [
    "pd.DataFrame(thirty_day_quest.collect())\\\n",
    "                                .rename(columns={0:'Intervall', 1: 'Number of Questions'})\\\n",
    "                                .set_index('Intervall').plot()\n",
    "\n"
   ]
  }
 ],
 "metadata": {
  "kernelspec": {
   "display_name": "Python 3",
   "language": "python",
   "name": "python3"
  },
  "language_info": {
   "codemirror_mode": {
    "name": "ipython",
    "version": 3
   },
   "file_extension": ".py",
   "mimetype": "text/x-python",
   "name": "python",
   "nbconvert_exporter": "python",
   "pygments_lexer": "ipython3",
   "version": "3.6.6"
  }
 },
 "nbformat": 4,
 "nbformat_minor": 2
}
