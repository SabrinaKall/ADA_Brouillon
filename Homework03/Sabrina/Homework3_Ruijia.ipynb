{
 "cells": [
  {
   "cell_type": "markdown",
   "metadata": {},
   "source": [
    "# ADA 2018 - Homework 3\n",
    "\n",
    "\n",
    "\n",
    "## Undestanding the StackOverflow community\n",
    "\n",
    "\n",
    "Deadline: Nov 7th 2018, 23:59:59\n",
    "\n",
    "Submission link: Check channel homework-3-public"
   ]
  },
  {
   "cell_type": "markdown",
   "metadata": {},
   "source": [
    "StackOverflow is the most popular programming-related Q&A website. It serves as a platform for users to ask and answer questions and to vote questions and answers up or down. Users of StackOverflow can earn reputation points and \"badges\"; for example, a person is awarded 10 reputation points for receiving an \"up\" vote on an answer given to a question, and 5 points for the \"up\" vote on a question asked. Also, users receive badges for their valued contributions, which represents a kind of gamification of the traditional Q&A site. \n",
    "\n",
    "[Learn more about StackOverflow on Wikipedia](https://en.wikipedia.org/wiki/Stack_Overflow)\n",
    "\n",
    "----\n",
    "\n",
    "Dataset link:\n",
    "\n",
    "https://drive.google.com/open?id=1POlGjqzw9v_pZ_bUnXGihOgk45kbvNjB\n",
    "\n",
    "http://iccluster053.iccluster.epfl.ch/Posts.json.zip (mirror 1)\n",
    "\n",
    "https://iloveadatas.com/datasets/Posts.json.zip (mirror 2)\n",
    "\n",
    "Dataset description:\n",
    "\n",
    "* **Id**: Id of the post\n",
    "* **CreationDate**: Creation date of the post (String format)\n",
    "* **PostTypeId**: Type of post (Question = 1, Answer = 2)\n",
    "* **ParentId**: The id of the question. Only present if PostTypeId = 2\n",
    "* **Score**: Points assigned by the users\n",
    "* **Tags**: Tags of the question. Only present if PostTypeId = 1\n",
    "* **Title**: Only present if PostTypeId = 1\n",
    "* **ViewCount**: Only present if PostTypeId = 1\n",
    "\n",
    "The dataset format is JSON. Here are examples of a question and an answer:\n",
    "\n",
    "Question:\n",
    "```json\n",
    "{\n",
    "    \"Id\": 10130734,\n",
    "    \"CreationDate\": \"2012-04-12T19:51:25.793+02:00\",\n",
    "    \"PostTypeId\": 1,\n",
    "    \"Score\": 4,\n",
    "    \"Tags\": \"<python><pandas>\",\n",
    "    \"Title\": \"Best way to insert a new value\",\n",
    "    \"ViewCount\": 3803\n",
    "}\n",
    "```\n",
    "\n",
    "Answer:\n",
    "```json\n",
    "{  \n",
    "   \"CreationDate\":\"2010-10-26T03:19:05.063+02:00\",\n",
    "   \"Id\":4020440,\n",
    "   \"ParentId\":4020214,\n",
    "   \"PostTypeId\":2,\n",
    "   \"Score\":1\n",
    "}\n",
    "```\n",
    "\n",
    "----\n",
    "Useful resources:\n",
    "\n",
    "**Spark SQL, DataFrames and Datasets Guide**\n",
    "\n",
    "https://spark.apache.org/docs/latest/sql-programming-guide.html\n",
    "\n",
    "**Database schema documentation for the public data dump**\n",
    "\n",
    "https://meta.stackexchange.com/questions/2677/database-schema-documentation-for-the-public-data-dump-and-sede\n",
    "\n",
    "----\n",
    "\n",
    "**Note:** Use Spark where possible. Some computations can take more than 10 minutes on a common notebook. Consider to save partial results on disk."
   ]
  },
  {
   "cell_type": "code",
   "execution_count": 1,
   "metadata": {},
   "outputs": [],
   "source": [
    "import re\n",
    "import pandas as pd\n",
    "import numpy as np\n",
    "import matplotlib\n",
    "import matplotlib.pyplot as plt\n",
    "from datetime import datetime\n",
    "%matplotlib inline\n",
    "\n",
    "import findspark\n",
    "import zipfile\n",
    "findspark.init('/opt/spark/spark-2.3.2-bin-hadoop2.7/')\n",
    "\n",
    "from pyspark.sql import *\n",
    "from pyspark.sql.functions import *\n",
    "from pyspark.sql.functions import min\n",
    "from pyspark.sql.functions import udf\n",
    "from pyspark.sql.functions import split\n",
    "from pyspark.sql.functions import explode\n",
    "\n",
    "from pyspark.sql.types import StringType\n",
    "from pyspark.sql.types import TimestampType\n",
    "\n",
    "from pyspark.sql import SparkSession\n",
    "from pyspark import SparkContext\n",
    "\n",
    "spark = SparkSession.builder.getOrCreate()\n",
    "sc = spark.sparkContext\n",
    "\n",
    "DATA_DIR = 'data/'"
   ]
  },
  {
   "cell_type": "code",
   "execution_count": 5,
   "metadata": {},
   "outputs": [],
   "source": [
    "QUESTION_ID = 1\n",
    "ANSWER_ID = 2"
   ]
  },
  {
   "cell_type": "markdown",
   "metadata": {},
   "source": [
    "### Task A: Convert the dataset to a more convenient format\n",
    "As a warm-up task (and to avoid to warm up your laptop too much), load the dataset into a Spark dataframe, show the content, and save it in the _Parquet_ format. Use this step to convert the fields to a more convenient form.\n",
    "\n",
    "Answer the following questions:\n",
    "\n",
    "1. How many questions have been asked on StackOverflow?\n",
    "2. How many answers have been given?\n",
    "3. What is the percentage of questions with a score of 0?\n",
    "\n",
    "**Hint:** The next tasks involve a time difference. Consider storing time in numeric format.\n",
    "\n",
    "**Hint:** Load the dataset from the Parquet file for the next tasks."
   ]
  },
  {
   "cell_type": "code",
   "execution_count": 2,
   "metadata": {},
   "outputs": [
    {
     "name": "stdout",
     "output_type": "stream",
     "text": [
      "+--------------------+-------+--------+----------+-----+--------------------+--------------------+---------+\n",
      "|        CreationDate|     Id|ParentId|PostTypeId|Score|                Tags|               Title|ViewCount|\n",
      "+--------------------+-------+--------+----------+-----+--------------------+--------------------+---------+\n",
      "|2010-10-26T03:17:...|4020437|    null|         1|    0|<asp.net-mvc><jqu...|display jquery di...|      510|\n",
      "|2010-10-26T03:18:...|4020438|    null|         1|    0|<javascript><html...|Why can only my m...|       62|\n",
      "|2010-10-26T03:19:...|4020440| 4020214|         2|    1|                null|                null|     null|\n",
      "|2010-10-26T03:19:...|4020441| 3938154|         2|    0|                null|                null|     null|\n",
      "|2010-10-26T03:20:...|4020443| 4020419|         2|  324|                null|                null|     null|\n",
      "+--------------------+-------+--------+----------+-----+--------------------+--------------------+---------+\n",
      "only showing top 5 rows\n",
      "\n"
     ]
    }
   ],
   "source": [
    "#Load the data\n",
    "posts_rdd = spark.read.json(DATA_DIR + \"Posts.json\")\n",
    "\n",
    "#Display dataset\n",
    "posts_rdd.show(5)"
   ]
  },
  {
   "cell_type": "code",
   "execution_count": 3,
   "metadata": {},
   "outputs": [
    {
     "name": "stdout",
     "output_type": "stream",
     "text": [
      "+--------------------+-------+--------+----------+-----+--------------------+--------------------+---------+\n",
      "|        CreationDate|     Id|ParentId|PostTypeId|Score|                Tags|               Title|ViewCount|\n",
      "+--------------------+-------+--------+----------+-----+--------------------+--------------------+---------+\n",
      "|2010-10-26 03:17:...|4020437|    null|         1|    0|<asp.net-mvc><jqu...|display jquery di...|      510|\n",
      "|2010-10-26 03:18:...|4020438|    null|         1|    0|<javascript><html...|Why can only my m...|       62|\n",
      "|2010-10-26 03:19:...|4020440| 4020214|         2|    1|                null|                null|     null|\n",
      "|2010-10-26 03:19:...|4020441| 3938154|         2|    0|                null|                null|     null|\n",
      "|2010-10-26 03:20:...|4020443| 4020419|         2|  324|                null|                null|     null|\n",
      "+--------------------+-------+--------+----------+-----+--------------------+--------------------+---------+\n",
      "only showing top 5 rows\n",
      "\n"
     ]
    }
   ],
   "source": [
    "#CreationDate handling\n",
    "#Changing weird dates and time to TimeStamp spark variable\n",
    "posts_rdd = posts_rdd.withColumn('CreationDate', posts_rdd['CreationDate'].cast(TimestampType()))\n",
    "\n",
    "#Display dataset with corrected time and dates\n",
    "posts_rdd.show(5)"
   ]
  },
  {
   "cell_type": "code",
   "execution_count": 4,
   "metadata": {},
   "outputs": [],
   "source": [
    "#Create Parquet file\n",
    "posts_rdd.write.mode(\"overwrite\").parquet(DATA_DIR + \"Posts.parquet\")"
   ]
  },
  {
   "cell_type": "code",
   "execution_count": 7,
   "metadata": {},
   "outputs": [],
   "source": [
    "#Load and work on Parquet file\n",
    "posts_parquet = spark.read.parquet(DATA_DIR + \"Posts.parquet\")"
   ]
  },
  {
   "cell_type": "markdown",
   "metadata": {},
   "source": [
    "__1. How many questions have been asked on StackOverflow?__"
   ]
  },
  {
   "cell_type": "code",
   "execution_count": 8,
   "metadata": {},
   "outputs": [
    {
     "name": "stdout",
     "output_type": "stream",
     "text": [
      "Number of questions: 15647060\n"
     ]
    }
   ],
   "source": [
    "#Get number of questions\n",
    "questions_num = posts_parquet.filter(posts_parquet.PostTypeId == QUESTION_ID).count()\n",
    "print('Number of questions:', questions_num)"
   ]
  },
  {
   "cell_type": "markdown",
   "metadata": {},
   "source": [
    "__2. How many answers have been given?__"
   ]
  },
  {
   "cell_type": "code",
   "execution_count": 9,
   "metadata": {},
   "outputs": [
    {
     "name": "stdout",
     "output_type": "stream",
     "text": [
      "Number of answers: 25192772\n"
     ]
    }
   ],
   "source": [
    "#Get number of answers\n",
    "answers_num = posts_parquet.filter(posts_parquet.PostTypeId == ANSWER_ID).count()\n",
    "print('Number of answers:', answers_num)"
   ]
  },
  {
   "cell_type": "markdown",
   "metadata": {},
   "source": [
    "__3. What is the percentage of questions with a score of 0?__"
   ]
  },
  {
   "cell_type": "code",
   "execution_count": 11,
   "metadata": {},
   "outputs": [
    {
     "name": "stdout",
     "output_type": "stream",
     "text": [
      "Proportion of questions with a score of 0: 46.54 %\n"
     ]
    }
   ],
   "source": [
    "#Get proportion of answers with score 0\n",
    "zero_questions = posts_parquet\\\n",
    "                    .filter(posts_parquet.PostTypeId == QUESTION_ID)\\\n",
    "                    .filter(posts_parquet.Score == 0)\\\n",
    "                    .count()*100/questions_num\n",
    "print('Proportion of questions with a score of 0:', \"%.2f\" % zero_questions, '%')"
   ]
  },
  {
   "cell_type": "markdown",
   "metadata": {},
   "source": [
    "Note that we interpreted the question as meaning \"out of all questions, how many have the score 0\"."
   ]
  },
  {
   "cell_type": "markdown",
   "metadata": {},
   "source": [
    "### Task B: What are the 10 most popular tags?\n",
    "\n",
    "What are the most popular tags in StackOverflow? Use Spark to extract the information you need, and answer the following questions with Pandas and Matplotlib (or Seaborn):\n",
    "\n",
    "1. What is the proportion of tags that appear in fewer than 100 questions?\n",
    "2. Plot the distribution of the tag counts using an appropriate representation.\n",
    "3. Plot a bar chart with the number of questions for the 10 most popular tags.\n",
    "\n",
    "For each task describe your findings briefly."
   ]
  },
  {
   "cell_type": "code",
   "execution_count": 12,
   "metadata": {
    "scrolled": true
   },
   "outputs": [
    {
     "name": "stdout",
     "output_type": "stream",
     "text": [
      "+--------+------------+\n",
      "|      Id|        Tags|\n",
      "+--------+------------+\n",
      "|45740348|       flash|\n",
      "|45740348|react-native|\n",
      "|45740355|  postgresql|\n",
      "|45740355|  formatting|\n",
      "|45740355|     plpgsql|\n",
      "+--------+------------+\n",
      "only showing top 5 rows\n",
      "\n"
     ]
    }
   ],
   "source": [
    "#Cleaning and extracting question Id and Tags\n",
    "    #As seen in part A, there are sometime multiple Tags per question Id (each tag in <...>)\n",
    "    #Here, the Tags of the questions are separated into multiple rows with the same Id\n",
    "    \n",
    "tags_rdd = posts_parquet\\\n",
    "                        .filter(posts_parquet.PostTypeId == QUESTION_ID)\\\n",
    "                        .select('Id', 'Tags')\\\n",
    "                        .withColumn('Tags',explode(split('Tags','><')))\\\n",
    "                        .withColumn('Tags',regexp_replace('Tags','[><]', ''))\n",
    "\n",
    "#Display separated and cleaned Tags with respective question Id\n",
    "tags_rdd.show(5)\n",
    "\n",
    "#Create Parquet file\n",
    "tags_rdd.write.mode(\"overwrite\").parquet(DATA_DIR + \"Tags.parquet\")"
   ]
  },
  {
   "cell_type": "code",
   "execution_count": 13,
   "metadata": {},
   "outputs": [],
   "source": [
    "#Load and work on Parquet file\n",
    "tags_parquet = spark.read.parquet(DATA_DIR + \"Tags.parquet\")"
   ]
  },
  {
   "cell_type": "code",
   "execution_count": 24,
   "metadata": {},
   "outputs": [
    {
     "name": "stdout",
     "output_type": "stream",
     "text": [
      "+------------+---------------+\n",
      "|        Tags|Tags_Occurrence|\n",
      "+------------+---------------+\n",
      "|     sd-card|           1239|\n",
      "|   standards|           2495|\n",
      "|        rxjs|           7960|\n",
      "|fuzzy-search|            600|\n",
      "|   arguments|           7157|\n",
      "+------------+---------------+\n",
      "only showing top 5 rows\n",
      "\n"
     ]
    }
   ],
   "source": [
    "#Proportion of tags that appear in less than 100 questions\n",
    "tags_count = tags_parquet\\\n",
    "                .groupby('Tags')\\\n",
    "                .count()\\\n",
    "                .selectExpr('Tags as Tags', 'count as Tags_Occurrence') #rename the columns\n",
    "\n",
    "#Display tags and corresponding occurence in questions\n",
    "tags_count.show(5)"
   ]
  },
  {
   "cell_type": "markdown",
   "metadata": {},
   "source": [
    "__1. What is the proportion of tags that appear in fewer than 100 questions?__"
   ]
  },
  {
   "cell_type": "code",
   "execution_count": 25,
   "metadata": {},
   "outputs": [
    {
     "name": "stdout",
     "output_type": "stream",
     "text": [
      "Proportion of tags that appear in less than 100 questions: 67.98 %\n"
     ]
    }
   ],
   "source": [
    "#Calculation proportion of tags that appear in less than 100 questions\n",
    "tags100_prop = tags_count\\\n",
    "                .filter(tags_count.Tags_Occurrence < 100)\\\n",
    "                .count()*100/tags_count.count()\n",
    "\n",
    "print('Proportion of tags that appear in less than 100 questions:', \"%.2f\" % tags100_prop, '%')"
   ]
  },
  {
   "cell_type": "markdown",
   "metadata": {},
   "source": [
    "__2. Plot the distribution of the tag counts using an appropriate representation.__"
   ]
  },
  {
   "cell_type": "code",
   "execution_count": 26,
   "metadata": {},
   "outputs": [
    {
     "data": {
      "text/plain": [
       "<matplotlib.axes._subplots.AxesSubplot at 0x7f2f0b3ff470>"
      ]
     },
     "execution_count": 26,
     "metadata": {},
     "output_type": "execute_result"
    },
    {
     "data": {
      "image/png": "[encoded data removed]",
      "text/plain": [
       "<Figure size 720x504 with 1 Axes>"
      ]
     },
     "metadata": {},
     "output_type": "display_data"
    }
   ],
   "source": [
    "#Plot the frequency at which a tag appear in a certain number of questions\n",
    "tags_count.toPandas().plot(\n",
    "                        kind='hist',\n",
    "                        by='Tags_Occurrence',\n",
    "                        title='Distribution of tags occurrence',\n",
    "                        logy=True,\n",
    "                        figsize=(10, 7)\n",
    "                        )"
   ]
  },
  {
   "cell_type": "markdown",
   "metadata": {},
   "source": [
    "__3. Plot a bar chart with the number of questions for the 10 most popular tags.__\n"
   ]
  },
  {
   "cell_type": "code",
   "execution_count": 35,
   "metadata": {},
   "outputs": [
    {
     "data": {
      "text/plain": [
       "<matplotlib.axes._subplots.AxesSubplot at 0x7f2f0a20e978>"
      ]
     },
     "execution_count": 35,
     "metadata": {},
     "output_type": "execute_result"
    },
    {
     "data": {
      "image/png": "[encoded data removed]",
      "text/plain": [
       "<Figure size 432x288 with 1 Axes>"
      ]
     },
     "metadata": {},
     "output_type": "display_data"
    }
   ],
   "source": [
    "#Select 10 most popular tags overall (questions and answers)\n",
    "#(Chose \"sort + limit\" over \"top\" function to avoid unnecessary conversions)\n",
    "top10_tags = tags_count\\\n",
    "                .sort(desc('Tags_Occurrence'))\\\n",
    "                .select('Tags')\\\n",
    "                .limit(10)\n",
    "\n",
    "#Filter question Id associated to each tag\n",
    "top10_tags_ids = top10_tags\\\n",
    "                    .join(tags_parquet, on=['Tags'])\\\n",
    "                    .groupby('Tags')\\\n",
    "                    .count()\\\n",
    "                    .selectExpr('Tags as Tags', 'count as Tags_Number')\\\n",
    "                    .sort(desc('Tags_Number'))\n",
    "\n",
    "#Display results in bar chart\n",
    "top10_tags_ids.toPandas().plot(\n",
    "                            kind='bar',\n",
    "                            x='Tags',\n",
    "                            y='Tags_Number',\n",
    "                            title='Number of questions for the 10 most popular tags'\n",
    "                            )"
   ]
  },
  {
   "cell_type": "markdown",
   "metadata": {},
   "source": [
    "### Task C: View-score relation\n",
    "\n",
    "We want to investigate the correlation between the view count and the score of questions.\n",
    "\n",
    "1. Get the view count and score of the questions with tag ```random-effects``` and visualize the relation between these two variables using an appropriate plot.\n",
    "2. Are these two variables correlated? Use the Pearson coefficient to validate your hypothesis. Discuss your findings in detail.\n",
    "\n",
    "**Hint:** Inspect the data visually before drawing your conclusions."
   ]
  },
  {
   "cell_type": "code",
   "execution_count": 29,
   "metadata": {},
   "outputs": [
    {
     "name": "stdout",
     "output_type": "stream",
     "text": [
      "+-----+---------+\n",
      "|Score|ViewCount|\n",
      "+-----+---------+\n",
      "|    0|       12|\n",
      "|    0|      495|\n",
      "|    0|      220|\n",
      "|    0|       21|\n",
      "|    5|      126|\n",
      "+-----+---------+\n",
      "only showing top 5 rows\n",
      "\n"
     ]
    }
   ],
   "source": [
    "#Extract view count and score of questions with 'random-effects' tag\n",
    "view_score_rdd = posts_parquet\\\n",
    "                    .filter(posts_parquet.PostTypeId < 2)\\\n",
    "                    .select('Id', 'Score', 'Tags', 'ViewCount')\\\n",
    "                    .withColumn('Tags',explode(split('Tags','><')))\\\n",
    "                    .withColumn('Tags',regexp_replace('Tags','[><]', ''))\\\n",
    "                    .filter(\"Tags like 'random-effects'\")\\\n",
    "                    .drop('Id', 'Tags')\n",
    "\n",
    "#Display separated and cleaned questions with respective Score and ViewCount\n",
    "view_score_rdd.show(5)\n",
    "\n",
    "#Create Parquet file\n",
    "view_score_rdd.write.mode(\"overwrite\").parquet(DATA_DIR + \"ViewScore.parquet\")"
   ]
  },
  {
   "cell_type": "code",
   "execution_count": 30,
   "metadata": {},
   "outputs": [],
   "source": [
    "#Load and work on Parquet file\n",
    "view_score_parquet = spark.read.parquet(DATA_DIR + \"ViewScore.parquet\")"
   ]
  },
  {
   "cell_type": "code",
   "execution_count": 45,
   "metadata": {},
   "outputs": [
    {
     "data": {
      "text/html": [
       "<div>\n",
       "<style scoped>\n",
       "    .dataframe tbody tr th:only-of-type {\n",
       "        vertical-align: middle;\n",
       "    }\n",
       "\n",
       "    .dataframe tbody tr th {\n",
       "        vertical-align: top;\n",
       "    }\n",
       "\n",
       "    .dataframe thead th {\n",
       "        text-align: right;\n",
       "    }\n",
       "</style>\n",
       "<table border=\"1\" class=\"dataframe\">\n",
       "  <thead>\n",
       "    <tr style=\"text-align: right;\">\n",
       "      <th></th>\n",
       "      <th>Score</th>\n",
       "      <th>ViewCount</th>\n",
       "    </tr>\n",
       "  </thead>\n",
       "  <tbody>\n",
       "    <tr>\n",
       "      <th>90</th>\n",
       "      <td>0</td>\n",
       "      <td>419</td>\n",
       "    </tr>\n",
       "    <tr>\n",
       "      <th>91</th>\n",
       "      <td>6</td>\n",
       "      <td>5823</td>\n",
       "    </tr>\n",
       "    <tr>\n",
       "      <th>92</th>\n",
       "      <td>6</td>\n",
       "      <td>6699</td>\n",
       "    </tr>\n",
       "    <tr>\n",
       "      <th>93</th>\n",
       "      <td>25</td>\n",
       "      <td>42678</td>\n",
       "    </tr>\n",
       "    <tr>\n",
       "      <th>94</th>\n",
       "      <td>0</td>\n",
       "      <td>275</td>\n",
       "    </tr>\n",
       "    <tr>\n",
       "      <th>95</th>\n",
       "      <td>1</td>\n",
       "      <td>69</td>\n",
       "    </tr>\n",
       "    <tr>\n",
       "      <th>96</th>\n",
       "      <td>0</td>\n",
       "      <td>29</td>\n",
       "    </tr>\n",
       "    <tr>\n",
       "      <th>97</th>\n",
       "      <td>3</td>\n",
       "      <td>769</td>\n",
       "    </tr>\n",
       "    <tr>\n",
       "      <th>98</th>\n",
       "      <td>4</td>\n",
       "      <td>852</td>\n",
       "    </tr>\n",
       "    <tr>\n",
       "      <th>99</th>\n",
       "      <td>-2</td>\n",
       "      <td>5345</td>\n",
       "    </tr>\n",
       "  </tbody>\n",
       "</table>\n",
       "</div>"
      ],
      "text/plain": [
       "    Score  ViewCount\n",
       "90      0        419\n",
       "91      6       5823\n",
       "92      6       6699\n",
       "93     25      42678\n",
       "94      0        275\n",
       "95      1         69\n",
       "96      0         29\n",
       "97      3        769\n",
       "98      4        852\n",
       "99     -2       5345"
      ]
     },
     "execution_count": 45,
     "metadata": {},
     "output_type": "execute_result"
    }
   ],
   "source": [
    "#Visualization of data beforehand (head() seen in previous print)\n",
    "view_score_parquet.toPandas().tail(10)"
   ]
  },
  {
   "cell_type": "code",
   "execution_count": 40,
   "metadata": {},
   "outputs": [
    {
     "name": "stdout",
     "output_type": "stream",
     "text": [
      "Pearson coefficient: 0.88\n"
     ]
    },
    {
     "data": {
      "image/png": "[encoded data removed]",
      "text/plain": [
       "<Figure size 432x288 with 1 Axes>"
      ]
     },
     "metadata": {
      "needs_background": "light"
     },
     "output_type": "display_data"
    }
   ],
   "source": [
    "#Scatter plot of ViewCount vs Score\n",
    "view_score_parquet.toPandas().plot.scatter(\n",
    "                                x='ViewCount',\n",
    "                                y='Score',\n",
    "                                title='Score as a function of ViewCount for questions tagged as \"random-effects\"',\n",
    "                                logx=True\n",
    "                                )\n",
    "\n",
    "print('Pearson coefficient:', \"%.2f\" % view_score_parquet.corr('ViewCount', 'Score'))"
   ]
  },
  {
   "cell_type": "markdown",
   "metadata": {},
   "source": [
    "### Task D: What are the tags with the fastest first answer?\n",
    "\n",
    "What are the tags that have the fastest response time from the community? We define the response time as the difference in seconds between the timestamps of the question and of the first answer received.\n",
    "\n",
    "1. Get the response time for the first answer of the questions with the tags ```python``` and ```java```.\n",
    "2. Plot the two distributions in an appropriate format. What do you observe? Describe your findings and discuss the following distribution properties: mean, median, standard deviation.\n",
    "3. We believe that the response time is lower for questions related to Python (compare to Java). Contradict or confirm this assumption by estimating the proper statistic with bootstrapping. Visualize the 95% confidence intervals with box plots and describe your findings.\n",
    "3. Repeat the first analysis (D1) by using the proper statistic to measure the response time for the tags that appear at least 5000 times. Plot the distribution of the 10 tags with the fastest response time.\n"
   ]
  },
  {
   "cell_type": "code",
   "execution_count": 5,
   "metadata": {},
   "outputs": [],
   "source": [
    "# Add your code and description here"
   ]
  },
  {
   "cell_type": "markdown",
   "metadata": {},
   "source": [
    "### Task E: What's up with PySpark?\n",
    "The number of questions asked regarding a specific topic reflect the public’s interest on it. We are interested on the popularity of PySpark. Compute and plot the number of questions with the ```pyspark``` tag for 30-day time intervals. Do you notice any trend over time? Is there any correlation between time and number of questions?\n"
   ]
  },
  {
   "cell_type": "code",
   "execution_count": null,
   "metadata": {},
   "outputs": [],
   "source": [
    "# Add your code and description here"
   ]
  }
 ],
 "metadata": {
  "kernelspec": {
   "display_name": "Python 3",
   "language": "python",
   "name": "python3"
  },
  "language_info": {
   "codemirror_mode": {
    "name": "ipython",
    "version": 3
   },
   "file_extension": ".py",
   "mimetype": "text/x-python",
   "name": "python",
   "nbconvert_exporter": "python",
   "pygments_lexer": "ipython3",
   "version": "3.6.5"
  }
 },
 "nbformat": 4,
 "nbformat_minor": 2
}
