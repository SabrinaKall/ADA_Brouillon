{
 "cells": [
  {
   "cell_type": "markdown",
   "metadata": {},
   "source": [
    "# ADA 2018 - Homework 3\n",
    "\n",
    "\n",
    "\n",
    "## Understanding the StackOverflow community\n"
   ]
  },
  {
   "cell_type": "markdown",
   "metadata": {},
   "source": [
    "StackOverflow is the most popular programming-related Q&A website. It serves as a platform for users to ask and answer questions and to vote questions and answers up or down. Users of StackOverflow can earn reputation points and \"badges\"; for example, a person is awarded 10 reputation points for receiving an \"up\" vote on an answer given to a question, and 5 points for the \"up\" vote on a question asked. Also, users receive badges for their valued contributions, which represents a kind of gamification of the traditional Q&A site. \n",
    "\n",
    "[Learn more about StackOverflow on Wikipedia](https://en.wikipedia.org/wiki/Stack_Overflow)\n",
    "\n",
    "----\n",
    "\n",
    "Dataset link:\n",
    "\n",
    "https://drive.google.com/open?id=1POlGjqzw9v_pZ_bUnXGihOgk45kbvNjB\n",
    "\n",
    "Dataset description:\n",
    "\n",
    "* **Id**: Id of the post\n",
    "* **CreationDate**: Creation date of the post (String format)\n",
    "* **PostTypeId**: Type of post (Question = 1, Answer = 2)\n",
    "* **ParentId**: The id of the question. Only present if PostTypeId = 2\n",
    "* **Score**: Points assigned by the users\n",
    "* **Tags**: Tags of the question. Only present if PostTypeId = 1\n",
    "* **Title**: Only present if PostTypeId = 1\n",
    "* **ViewCount**: Only present if PostTypeId = 1\n",
    "\n",
    "The dataset format is JSON. Here are examples of a question and an answer:\n",
    "\n",
    "Question:\n",
    "```json\n",
    "{\n",
    "    \"Id\": 10130734,\n",
    "    \"CreationDate\": \"2012-04-12T19:51:25.793+02:00\",\n",
    "    \"PostTypeId\": 1,\n",
    "    \"Score\": 4,\n",
    "    \"Tags\": \"<python><pandas>\",\n",
    "    \"Title\": \"Best way to insert a new value\",\n",
    "    \"ViewCount\": 3803\n",
    "}\n",
    "```\n",
    "\n",
    "Answer:\n",
    "```json\n",
    "{  \n",
    "   \"CreationDate\":\"2010-10-26T03:19:05.063+02:00\",\n",
    "   \"Id\":4020440,\n",
    "   \"ParentId\":4020214,\n",
    "   \"PostTypeId\":2,\n",
    "   \"Score\":1\n",
    "}\n",
    "```\n",
    "\n",
    "----\n",
    "Useful resources:\n",
    "\n",
    "**Spark SQL, DataFrames and Datasets Guide**\n",
    "\n",
    "https://spark.apache.org/docs/latest/sql-programming-guide.html\n",
    "\n",
    "**Database schema documentation for the public data dump**\n",
    "\n",
    "https://meta.stackexchange.com/questions/2677/database-schema-documentation-for-the-public-data-dump-and-sede\n",
    "\n",
    "----\n",
    "\n",
    "**Note:** Use Spark where possible. Some computations can take more than 10 minutes on a common notebook. Consider to save partial results on disk."
   ]
  },
  {
   "cell_type": "code",
   "execution_count": 136,
   "metadata": {},
   "outputs": [],
   "source": [
    "import re\n",
    "import pandas as pd\n",
    "import numpy as np\n",
    "import matplotlib\n",
    "import matplotlib.pyplot as plt\n",
    "%matplotlib inline\n",
    "\n",
    "import findspark\n",
    "findspark.init('/opt/spark/spark-2.3.2-bin-hadoop2.7/')\n",
    "\n",
    "from pyspark.sql import *\n",
    "from pyspark.sql.functions import *\n",
    "from pyspark.sql.functions import min\n",
    "from pyspark.sql.functions import floor\n",
    "from pyspark.sql.functions import unix_timestamp\n",
    "\n",
    "from pyspark.sql import SparkSession\n",
    "from pyspark import SparkContext\n",
    "from pyspark.sql.types import TimestampType\n",
    "from pyspark.sql import Row\n",
    "\n",
    "spark = SparkSession.builder.getOrCreate()\n",
    "sc = spark.sparkContext"
   ]
  },
  {
   "cell_type": "markdown",
   "metadata": {},
   "source": [
    "### Task A: Convert the dataset to a more convenient format\n",
    "As a warm-up task (and to avoid to warm up your laptop too much), load the dataset into a Spark dataframe, show the content, and save it in the _Parquet_ format. Use this step to convert the fields to a more convenient form.\n",
    "\n",
    "Answer the following questions:\n",
    "\n",
    "1. How many questions have been asked on StackOverflow?\n",
    "2. How many answers have been given?\n",
    "3. What is the percentage of questions with a score of 0?\n",
    "\n",
    "**Hint:** The next tasks involve a time difference. Consider storing time in numeric format."
   ]
  },
  {
   "cell_type": "code",
   "execution_count": 2,
   "metadata": {},
   "outputs": [],
   "source": [
    "DATA_DIR = 'data/'"
   ]
  },
  {
   "cell_type": "code",
   "execution_count": 3,
   "metadata": {},
   "outputs": [
    {
     "name": "stdout",
     "output_type": "stream",
     "text": [
      "+--------------------+-------+--------+----------+-----+--------------------+--------------------+---------+\n",
      "|        CreationDate|     Id|ParentId|PostTypeId|Score|                Tags|               Title|ViewCount|\n",
      "+--------------------+-------+--------+----------+-----+--------------------+--------------------+---------+\n",
      "|2010-10-26T03:17:...|4020437|    null|         1|    0|<asp.net-mvc><jqu...|display jquery di...|      510|\n",
      "|2010-10-26T03:18:...|4020438|    null|         1|    0|<javascript><html...|Why can only my m...|       62|\n",
      "|2010-10-26T03:19:...|4020440| 4020214|         2|    1|                null|                null|     null|\n",
      "|2010-10-26T03:19:...|4020441| 3938154|         2|    0|                null|                null|     null|\n",
      "|2010-10-26T03:20:...|4020443| 4020419|         2|  324|                null|                null|     null|\n",
      "+--------------------+-------+--------+----------+-----+--------------------+--------------------+---------+\n",
      "only showing top 5 rows\n",
      "\n"
     ]
    }
   ],
   "source": [
    "posts_rdd = spark.read.json(DATA_DIR + \"Posts.json\")\n",
    "posts_rdd = posts_rdd.withColumn(\"CreationDate\", posts_rdd['CreationDate'].cast(TimestampType()))\n",
    "posts_rdd.show(5)"
   ]
  },
  {
   "cell_type": "code",
   "execution_count": 6,
   "metadata": {},
   "outputs": [],
   "source": [
    "posts_rdd.write.mode(\"overwrite\").parquet(DATA_DIR + \"posts.parquet\")\n",
    "posts_parquet = spark.read.parquet(DATA_DIR + \"posts.parquet\")\n",
    "posts_parquet.show(5)"
   ]
  },
  {
   "cell_type": "code",
   "execution_count": 44,
   "metadata": {},
   "outputs": [],
   "source": [
    "questions_rdd = posts_parquet.filter('PostTypeId == 1')\n",
    "answers_rdd = posts_parquet.filter('PostTypeId == 2')"
   ]
  },
  {
   "cell_type": "markdown",
   "metadata": {},
   "source": [
    "__1) How many questions have been asked on StackOverflow?__"
   ]
  },
  {
   "cell_type": "code",
   "execution_count": 10,
   "metadata": {},
   "outputs": [
    {
     "data": {
      "text/plain": [
       "15647060"
      ]
     },
     "execution_count": 10,
     "metadata": {},
     "output_type": "execute_result"
    }
   ],
   "source": [
    "#Questions are of Post type 1\n",
    "questions_rdd.count()"
   ]
  },
  {
   "cell_type": "markdown",
   "metadata": {},
   "source": [
    "__2) How many answers have been given?__"
   ]
  },
  {
   "cell_type": "code",
   "execution_count": 11,
   "metadata": {},
   "outputs": [
    {
     "data": {
      "text/plain": [
       "25192772"
      ]
     },
     "execution_count": 11,
     "metadata": {},
     "output_type": "execute_result"
    }
   ],
   "source": [
    "answers_rdd.count()"
   ]
  },
  {
   "cell_type": "markdown",
   "metadata": {},
   "source": [
    "__3) What is the percentage of questions with a score of 0?__"
   ]
  },
  {
   "cell_type": "code",
   "execution_count": 12,
   "metadata": {},
   "outputs": [
    {
     "data": {
      "text/plain": [
       "17.83237991772346"
      ]
     },
     "execution_count": 12,
     "metadata": {},
     "output_type": "execute_result"
    }
   ],
   "source": [
    "(questions_rdd.filter('Score == 0').count()/posts_parquet.count()) * 100"
   ]
  },
  {
   "cell_type": "markdown",
   "metadata": {},
   "source": [
    "**Hint:** Load the dataset from the Parquet file for the next tasks."
   ]
  },
  {
   "cell_type": "markdown",
   "metadata": {},
   "source": [
    "### Task B: What are the 10 most popular tags?\n",
    "\n",
    "What are the most popular tags in StackOverflow? Use Spark to extract the information you need, and answer the following questions with Pandas and Matplotlib (or Seaborn):\n",
    "\n",
    "1. What is the proportion of tags that appear in fewer than 100 questions?\n",
    "2. Plot the distribution of the tag counts using an appropriate representation.\n",
    "3. Plot a bar chart with the number of questions for the 10 most popular tags.\n",
    "\n",
    "For each task describe your findings briefly."
   ]
  },
  {
   "cell_type": "code",
   "execution_count": 7,
   "metadata": {},
   "outputs": [],
   "source": [
    "def getTags(posts):\n",
    "    return posts.select('Id', 'Tags')\\\n",
    "                .na.drop()\\\n",
    "                .rdd.flatMap(lambda r: [(r[0], g) for g in r[1].split('><')])\\\n",
    "                .map(lambda r: (r[1].replace('<', '').replace('>', ''), 1))\\\n",
    "                .reduceByKey(lambda nb1,nb2: nb1 + nb2)\n",
    "    "
   ]
  },
  {
   "cell_type": "markdown",
   "metadata": {},
   "source": [
    "__1) What is the proportion of tags that appear in fewer than 100 questions?__"
   ]
  },
  {
   "cell_type": "code",
   "execution_count": 8,
   "metadata": {},
   "outputs": [
    {
     "data": {
      "text/plain": [
       "[('python', 954401),\n",
       " ('share', 3668),\n",
       " ('facebook-opengraph', 2196),\n",
       " ('php', 1136082),\n",
       " ('excel-formula', 14803)]"
      ]
     },
     "execution_count": 8,
     "metadata": {},
     "output_type": "execute_result"
    }
   ],
   "source": [
    "question_tags = getTags(questions_rdd)\n",
    "question_tags.take(5)"
   ]
  },
  {
   "cell_type": "code",
   "execution_count": 15,
   "metadata": {},
   "outputs": [
    {
     "data": {
      "text/plain": [
       "67.97939389364834"
      ]
     },
     "execution_count": 15,
     "metadata": {},
     "output_type": "execute_result"
    }
   ],
   "source": [
    "total_tag_nb = question_tags.count()\n",
    "low_tag_nb = question_tags.filter(lambda r: r[1] < 100).count()\n",
    "low_proportion = (low_tag_nb/total_tag_nb) * 100\n",
    "low_proportion"
   ]
  },
  {
   "cell_type": "markdown",
   "metadata": {},
   "source": [
    "__2) Plot the distribution of the tag counts using an appropriate representation.__"
   ]
  },
  {
   "cell_type": "code",
   "execution_count": 9,
   "metadata": {},
   "outputs": [],
   "source": [
    "tags = getTags(posts_parquet)"
   ]
  },
  {
   "cell_type": "code",
   "execution_count": 12,
   "metadata": {},
   "outputs": [
    {
     "data": {
      "text/html": [
       "<div>\n",
       "<style scoped>\n",
       "    .dataframe tbody tr th:only-of-type {\n",
       "        vertical-align: middle;\n",
       "    }\n",
       "\n",
       "    .dataframe tbody tr th {\n",
       "        vertical-align: top;\n",
       "    }\n",
       "\n",
       "    .dataframe thead th {\n",
       "        text-align: right;\n",
       "    }\n",
       "</style>\n",
       "<table border=\"1\" class=\"dataframe\">\n",
       "  <thead>\n",
       "    <tr style=\"text-align: right;\">\n",
       "      <th></th>\n",
       "      <th>Tag</th>\n",
       "      <th>Number of uses</th>\n",
       "    </tr>\n",
       "  </thead>\n",
       "  <tbody>\n",
       "    <tr>\n",
       "      <th>0</th>\n",
       "      <td>python</td>\n",
       "      <td>954401</td>\n",
       "    </tr>\n",
       "    <tr>\n",
       "      <th>1</th>\n",
       "      <td>share</td>\n",
       "      <td>3668</td>\n",
       "    </tr>\n",
       "    <tr>\n",
       "      <th>2</th>\n",
       "      <td>facebook-opengraph</td>\n",
       "      <td>2196</td>\n",
       "    </tr>\n",
       "    <tr>\n",
       "      <th>3</th>\n",
       "      <td>php</td>\n",
       "      <td>1136082</td>\n",
       "    </tr>\n",
       "    <tr>\n",
       "      <th>4</th>\n",
       "      <td>excel-formula</td>\n",
       "      <td>14803</td>\n",
       "    </tr>\n",
       "  </tbody>\n",
       "</table>\n",
       "</div>"
      ],
      "text/plain": [
       "                  Tag  Number of uses\n",
       "0              python          954401\n",
       "1               share            3668\n",
       "2  facebook-opengraph            2196\n",
       "3                 php         1136082\n",
       "4       excel-formula           14803"
      ]
     },
     "execution_count": 12,
     "metadata": {},
     "output_type": "execute_result"
    }
   ],
   "source": [
    "tag_freq_df = pd.DataFrame(tags.collect()).rename(columns={0: 'Tag', 1: 'Number of uses'})\n",
    "tag_freq_df['Number of uses'].plot(kind='hist', logy=True)"
   ]
  },
  {
   "cell_type": "markdown",
   "metadata": {},
   "source": [
    "__3) Plot a bar chart with the number of questions for the 10 most popular tags.__"
   ]
  },
  {
   "cell_type": "code",
   "execution_count": 19,
   "metadata": {},
   "outputs": [
    {
     "data": {
      "text/plain": [
       "<matplotlib.axes._subplots.AxesSubplot at 0x7f00cc129b38>"
      ]
     },
     "execution_count": 19,
     "metadata": {},
     "output_type": "execute_result"
    },
    {
     "data": {
      "image/png": "[encoded data removed]",
      "text/plain": [
       "<Figure size 432x288 with 1 Axes>"
      ]
     },
     "metadata": {},
     "output_type": "display_data"
    }
   ],
   "source": [
    "pop_quest_tags = pd.DataFrame(question_tags.collect())\\\n",
    "                .rename(columns={0: 'Tag', 1: 'Number of uses'}).sort_values(by='Number of uses', ascending=False)\\\n",
    "                .head(10).set_index('Tag')\n",
    "pop_quest_tags.plot(kind='barh')"
   ]
  },
  {
   "cell_type": "markdown",
   "metadata": {},
   "source": [
    "### Task C: View-score relation\n",
    "\n",
    "We want to investigate the correlation between the view count and the score of questions.\n",
    "\n",
    "1. Get the view count and score of the questions with tag ```random-effects``` and visualize the relation between these two variables using an appropriate plot.\n",
    "2. Are these two variables correlated? Use the Pearson coefficient to validate your hypothesis. Discuss your findings in detail.\n",
    "\n",
    "**Hint:** Inspect the data visually before drawing your conclusions."
   ]
  },
  {
   "cell_type": "markdown",
   "metadata": {},
   "source": [
    "__1) Get the view count and score of the questions with tag random-effects and visualize the relation between these two variables using an appropriate plot__"
   ]
  },
  {
   "cell_type": "code",
   "execution_count": 20,
   "metadata": {},
   "outputs": [
    {
     "data": {
      "text/plain": [
       "100"
      ]
     },
     "execution_count": 20,
     "metadata": {},
     "output_type": "execute_result"
    }
   ],
   "source": [
    "random_tags = questions_rdd.filter(\"Tags like '%random-effects%'\").select('ViewCount', 'Score')\n",
    "random_tags.count()"
   ]
  },
  {
   "cell_type": "code",
   "execution_count": 21,
   "metadata": {},
   "outputs": [
    {
     "data": {
      "text/plain": [
       "<matplotlib.axes._subplots.AxesSubplot at 0x7f00c4728400>"
      ]
     },
     "execution_count": 21,
     "metadata": {},
     "output_type": "execute_result"
    },
    {
     "data": {
      "image/png": "[encoded data removed]",
      "text/plain": [
       "<Figure size 432x288 with 1 Axes>"
      ]
     },
     "metadata": {},
     "output_type": "display_data"
    }
   ],
   "source": [
    "views_to_score = pd.DataFrame(random_tags.collect())\\\n",
    "                .rename(columns={0: 'ViewCount', 1: 'Score'}).sort_values(by='ViewCount')\n",
    "views_to_score.plot(kind='scatter', x='ViewCount', y='Score')"
   ]
  },
  {
   "cell_type": "markdown",
   "metadata": {},
   "source": [
    "__2) Are these two variables correlated? Use the Pearson coefficient to validate your hypothesis. Discuss your findings in detail.__"
   ]
  },
  {
   "cell_type": "code",
   "execution_count": 22,
   "metadata": {},
   "outputs": [
    {
     "data": {
      "text/html": [
       "<div>\n",
       "<style scoped>\n",
       "    .dataframe tbody tr th:only-of-type {\n",
       "        vertical-align: middle;\n",
       "    }\n",
       "\n",
       "    .dataframe tbody tr th {\n",
       "        vertical-align: top;\n",
       "    }\n",
       "\n",
       "    .dataframe thead th {\n",
       "        text-align: right;\n",
       "    }\n",
       "</style>\n",
       "<table border=\"1\" class=\"dataframe\">\n",
       "  <thead>\n",
       "    <tr style=\"text-align: right;\">\n",
       "      <th></th>\n",
       "      <th>ViewCount</th>\n",
       "      <th>Score</th>\n",
       "    </tr>\n",
       "  </thead>\n",
       "  <tbody>\n",
       "    <tr>\n",
       "      <th>ViewCount</th>\n",
       "      <td>1.000000</td>\n",
       "      <td>0.882197</td>\n",
       "    </tr>\n",
       "    <tr>\n",
       "      <th>Score</th>\n",
       "      <td>0.882197</td>\n",
       "      <td>1.000000</td>\n",
       "    </tr>\n",
       "  </tbody>\n",
       "</table>\n",
       "</div>"
      ],
      "text/plain": [
       "           ViewCount     Score\n",
       "ViewCount   1.000000  0.882197\n",
       "Score       0.882197  1.000000"
      ]
     },
     "execution_count": 22,
     "metadata": {},
     "output_type": "execute_result"
    }
   ],
   "source": [
    "views_to_score.corr(method='pearson')"
   ]
  },
  {
   "cell_type": "markdown",
   "metadata": {},
   "source": [
    "Clearly these two values are somewhat positively correlated, but we should note that there are only 100 values in our sample, which is not very large, so this correlation may well be coincidental."
   ]
  },
  {
   "cell_type": "markdown",
   "metadata": {},
   "source": [
    "### Task D: What are the tags with the fastest first answer?\n",
    "\n",
    "What are the tags that have the fastest response time from the community? We define the response time as the difference in seconds between the timestamps of the question and of the first answer received.\n",
    "\n",
    "1. Get the response time for the first answer of the questions with the tags ```python``` and ```java```.\n",
    "2. Plot the two distributions in an appropriate format. What do you observe? Describe your findings and discuss the following distribution properties: mean, median, standard deviation.\n",
    "3. We believe that the response time is lower for questions related to Python. Contradict or confirm this assumption by estimating the proper statistic with bootstrapping. Visualize the 95% confidence intervals with box plots and describe your findings.\n",
    "3. Repeat the first analysis (D1) by using the proper statistic to measure the response time for the tags that appear at least 5000 times. Plot the distribution of the 10 tags with the fastest response time.\n"
   ]
  },
  {
   "cell_type": "markdown",
   "metadata": {},
   "source": [
    "__ 1) Get the response time for the first answer of the questions with the tags python and java.__"
   ]
  },
  {
   "cell_type": "code",
   "execution_count": 40,
   "metadata": {},
   "outputs": [
    {
     "data": {
      "text/plain": [
       "DataFrame[Id: bigint, AnswerDate: timestamp]"
      ]
     },
     "execution_count": 40,
     "metadata": {},
     "output_type": "execute_result"
    }
   ],
   "source": [
    "earliest_answers = answers_rdd.groupBy('ParentId').agg(min('CreationDate'))\\\n",
    "                        .withColumnRenamed('ParentId', 'Id').withColumnRenamed('min(CreationDate)', 'AnswerDate')\n",
    "\n",
    "def getMinResponseTime(questions):\n",
    "    q_and_a = questions.join(earliest_answers, 'Id')\n",
    "    return q_and_a.rdd.map(lambda r: (r['AnswerDate'] - r['CreationTime']).total_seconds())\n",
    "    "
   ]
  },
  {
   "cell_type": "code",
   "execution_count": 110,
   "metadata": {},
   "outputs": [],
   "source": [
    "python_questions = questions_rdd.filter(\"Tags like '%<python>%'\").select('Id', 'CreationDate')\n",
    "java_questions = questions_rdd.filter(\"Tags like '%<java>%'\").select('Id', 'CreationDate')"
   ]
  },
  {
   "cell_type": "code",
   "execution_count": 43,
   "metadata": {},
   "outputs": [
    {
     "data": {
      "text/plain": [
       "[7398.97, 5088.38, 510.994, 756.637, 116.33]"
      ]
     },
     "execution_count": 43,
     "metadata": {},
     "output_type": "execute_result"
    }
   ],
   "source": [
    "python_response_time = getMinResponseTime(python_questions)\n",
    "python_response_time.take(5)"
   ]
  },
  {
   "cell_type": "code",
   "execution_count": 44,
   "metadata": {},
   "outputs": [
    {
     "data": {
      "text/plain": [
       "[1921.887, 439.077, 290.054, 155.953, 3076.006]"
      ]
     },
     "execution_count": 44,
     "metadata": {},
     "output_type": "execute_result"
    }
   ],
   "source": [
    "java_response_time = getMinResponseTime(java_questions)\n",
    "java_response_time.take(5)"
   ]
  },
  {
   "cell_type": "markdown",
   "metadata": {},
   "source": [
    "__2) Plot the two distributions in an appropriate format. What do you observe? Describe your findings and discuss the following distribution properties: mean, median, standard deviation.__"
   ]
  },
  {
   "cell_type": "code",
   "execution_count": 49,
   "metadata": {},
   "outputs": [],
   "source": [
    "python_time = pd.Series(python_response_time.collect())\n",
    "java_time = pd.Series(java_response_time.collect())"
   ]
  },
  {
   "cell_type": "code",
   "execution_count": 50,
   "metadata": {},
   "outputs": [
    {
     "data": {
      "text/plain": [
       "{'whiskers': [<matplotlib.lines.Line2D at 0x7fecace18a58>,\n",
       "  <matplotlib.lines.Line2D at 0x7fecace18ef0>,\n",
       "  <matplotlib.lines.Line2D at 0x7fecace28860>,\n",
       "  <matplotlib.lines.Line2D at 0x7fecace28c88>],\n",
       " 'caps': [<matplotlib.lines.Line2D at 0x7fecace1d358>,\n",
       "  <matplotlib.lines.Line2D at 0x7fecace1d780>,\n",
       "  <matplotlib.lines.Line2D at 0x7fecace2f0f0>,\n",
       "  <matplotlib.lines.Line2D at 0x7fecace2f518>],\n",
       " 'boxes': [<matplotlib.lines.Line2D at 0x7fecace18908>,\n",
       "  <matplotlib.lines.Line2D at 0x7fecace28400>],\n",
       " 'medians': [<matplotlib.lines.Line2D at 0x7fecace1dba8>,\n",
       "  <matplotlib.lines.Line2D at 0x7fecace2f940>],\n",
       " 'fliers': [<matplotlib.lines.Line2D at 0x7fecace1dfd0>,\n",
       "  <matplotlib.lines.Line2D at 0x7fecace2fd68>],\n",
       " 'means': []}"
      ]
     },
     "execution_count": 50,
     "metadata": {},
     "output_type": "execute_result"
    },
    {
     "data": {
      "image/png": "[encoded data removed]",
      "text/plain": [
       "<Figure size 432x288 with 1 Axes>"
      ]
     },
     "metadata": {},
     "output_type": "display_data"
    }
   ],
   "source": [
    "plt.boxplot([java_time, python_time], labels=['java', 'python'])"
   ]
  },
  {
   "cell_type": "code",
   "execution_count": 64,
   "metadata": {},
   "outputs": [
    {
     "name": "stdout",
     "output_type": "stream",
     "text": [
      "Means:\n",
      "   Java: 11.535157797070434 [days]\n",
      "   Python: 11.352192907733121 [days]\n",
      "Medians:\n",
      "   Java: 0.33826625 [hours]\n",
      "   Python: 0.37411805555555555 [hours]\n",
      "Std dec:\n",
      "   Java: 82.49988358644708 [days]\n",
      "   Python: 79.86120546182448 [days]\n"
     ]
    }
   ],
   "source": [
    "print('Means:')\n",
    "print('   Java: ' + str(java_time.mean()/(3600 * 24)) + ' [days]')\n",
    "print('   Python: ' + str(python_time.mean()/(3600 * 24)) + ' [days]')\n",
    "\n",
    "print('Medians:')\n",
    "print('   Java: ' + str(java_time.median()/(3600)) + ' [hours]')\n",
    "print('   Python: ' + str(python_time.median()/(3600)) + ' [hours]')\n",
    "\n",
    "print('Std dec:')\n",
    "print('   Java: ' + str(java_time.std()/(3600 * 24)) + ' [days]')\n",
    "print('   Python: ' + str(python_time.std()/(3600 * 24)) + ' [days]')"
   ]
  },
  {
   "cell_type": "markdown",
   "metadata": {},
   "source": [
    "__3) We believe that the response time is lower for questions related to Python. Contradict or confirm this assumption by estimating the proper statistic with bootstrapping. Visualize the 95% confidence intervals with box plots and describe your findings.__"
   ]
  },
  {
   "cell_type": "code",
   "execution_count": 75,
   "metadata": {},
   "outputs": [
    {
     "data": {
      "text/plain": [
       "{'whiskers': [<matplotlib.lines.Line2D at 0x7fecb4ea4588>,\n",
       "  <matplotlib.lines.Line2D at 0x7fecb4ea4a20>,\n",
       "  <matplotlib.lines.Line2D at 0x7fecb4e93390>,\n",
       "  <matplotlib.lines.Line2D at 0x7fecb4e937b8>],\n",
       " 'caps': [<matplotlib.lines.Line2D at 0x7fecb4ea4e48>,\n",
       "  <matplotlib.lines.Line2D at 0x7fecb4e9d2b0>,\n",
       "  <matplotlib.lines.Line2D at 0x7fecb4e93be0>,\n",
       "  <matplotlib.lines.Line2D at 0x7fecb4e8a048>],\n",
       " 'boxes': [<matplotlib.lines.Line2D at 0x7fecb4ea4438>,\n",
       "  <matplotlib.lines.Line2D at 0x7fecb4e9def0>],\n",
       " 'medians': [<matplotlib.lines.Line2D at 0x7fecb4e9d6d8>,\n",
       "  <matplotlib.lines.Line2D at 0x7fecb4e8a470>],\n",
       " 'fliers': [<matplotlib.lines.Line2D at 0x7fecb4e9db00>,\n",
       "  <matplotlib.lines.Line2D at 0x7fecb4e8a898>],\n",
       " 'means': []}"
      ]
     },
     "execution_count": 75,
     "metadata": {},
     "output_type": "execute_result"
    },
    {
     "data": {
      "image/png": "[encoded data removed]",
      "text/plain": [
       "<Figure size 432x288 with 1 Axes>"
      ]
     },
     "metadata": {},
     "output_type": "display_data"
    }
   ],
   "source": [
    "plt.boxplot([java_time, python_time], labels=['java', 'python'], bootstrap=25)"
   ]
  },
  {
   "cell_type": "markdown",
   "metadata": {},
   "source": [
    "__ 4) Repeat the first analysis (D1) by using the proper statistic to measure the response time for the tags that appear at least 5000 times. Plot the distribution of the 10 tags with the fastest response time.__"
   ]
  },
  {
   "cell_type": "code",
   "execution_count": 52,
   "metadata": {},
   "outputs": [],
   "source": [
    "common_tags = tags.filter(lambda r: r[1] >= 5000).map(lambda r: r[0]).collect()\n",
    "\n",
    "quest = questions_rdd.select('CreationDate', 'Id', 'Tags')\\\n",
    "                    .rdd.flatMap(lambda r: [(r[0], r[1], g) for g in r[2].split('><')])\\\n",
    "                    .map(lambda r: (r[0], r[1], str(r[2]).replace('<', '').replace('>', '')))\\\n",
    "                    .toDF(['CreationTime', 'Id', 'Tag'])"
   ]
  },
  {
   "cell_type": "code",
   "execution_count": 53,
   "metadata": {},
   "outputs": [],
   "source": [
    "common_quest = quest.filter(quest['Tag'].isin(common_tags))"
   ]
  },
  {
   "cell_type": "code",
   "execution_count": 94,
   "metadata": {},
   "outputs": [],
   "source": [
    "resp_times = common_quest.join(earliest_answers, 'Id')\\\n",
    "                            .rdd.map(lambda r: (r['Tag'], ((r['AnswerDate'] - r['CreationTime']).total_seconds())))"
   ]
  },
  {
   "cell_type": "code",
   "execution_count": 76,
   "metadata": {},
   "outputs": [
    {
     "data": {
      "text/plain": [
       "[165.924,\n",
       " 165.924,\n",
       " 165.924,\n",
       " 508.407,\n",
       " 508.407,\n",
       " 89.513,\n",
       " 1107.187,\n",
       " 1107.187,\n",
       " 1107.187,\n",
       " 110.167,\n",
       " 110.167,\n",
       " 110.167,\n",
       " 177.42,\n",
       " 177.42,\n",
       " 177.42,\n",
       " 155.627,\n",
       " 155.627,\n",
       " 155.627,\n",
       " 155.627,\n",
       " 189.103]"
      ]
     },
     "execution_count": 76,
     "metadata": {},
     "output_type": "execute_result"
    }
   ],
   "source": [
    "resp_times.take(20)"
   ]
  },
  {
   "cell_type": "code",
   "execution_count": 96,
   "metadata": {},
   "outputs": [],
   "source": [
    "fastest_resp = resp_times.filter(lambda r: r[1] > 0).takeOrdered(10, key= lambda r: r[1])"
   ]
  },
  {
   "cell_type": "code",
   "execution_count": 97,
   "metadata": {},
   "outputs": [
    {
     "data": {
      "text/plain": [
       "[('php', 0.11),\n",
       " ('laravel', 0.11),\n",
       " ('phpunit', 0.11),\n",
       " ('wix', 0.123),\n",
       " ('python', 0.124),\n",
       " ('android', 0.126),\n",
       " ('android-layout', 0.126),\n",
       " ('git', 0.127),\n",
       " ('javascript', 0.127),\n",
       " ('internet-explorer', 0.127)]"
      ]
     },
     "execution_count": 97,
     "metadata": {},
     "output_type": "execute_result"
    }
   ],
   "source": [
    "fastest_resp"
   ]
  },
  {
   "cell_type": "code",
   "execution_count": 100,
   "metadata": {},
   "outputs": [
    {
     "data": {
      "image/png": "[encoded data removed]",
      "text/plain": [
       "<Figure size 432x288 with 1 Axes>"
      ]
     },
     "metadata": {},
     "output_type": "display_data"
    }
   ],
   "source": [
    "pd.DataFrame(fastest_resp).rename(columns={0:'Tag', 1:'Response Time'}).set_index('Tag').plot(kind='barh')"
   ]
  },
  {
   "cell_type": "code",
   "execution_count": 101,
   "metadata": {},
   "outputs": [
    {
     "data": {
      "text/plain": [
       "<matplotlib.axes._subplots.AxesSubplot at 0x7f5060140a20>"
      ]
     },
     "execution_count": 101,
     "metadata": {},
     "output_type": "execute_result"
    },
    {
     "data": {
      "image/png": "[encoded data removed]",
      "text/plain": [
       "<Figure size 432x288 with 1 Axes>"
      ]
     },
     "metadata": {},
     "output_type": "display_data"
    }
   ],
   "source": [
    "fastest_resp_realistic = resp_times.filter(lambda r: r[1] > 2).takeOrdered(10, key= lambda r: r[1])\n",
    "pd.DataFrame(fastest_resp_realistic).rename(columns={0:'Tag', 1:'Response Time'}).set_index('Tag').plot(kind='barh')"
   ]
  },
  {
   "cell_type": "markdown",
   "metadata": {},
   "source": [
    "### Task E: What's up with PySpark?\n",
    "The number of questions asked regarding a specific topic reflect the public’s interest on it. We are interested on the popularity of PySpark. Compute and plot the number of questions with the ```pyspark``` tag for 30-day time intervals. Do you notice any trend over time? Is there any correlation between time and number of questions?\n"
   ]
  },
  {
   "cell_type": "code",
   "execution_count": 184,
   "metadata": {},
   "outputs": [],
   "source": [
    "from math import floor\n",
    "intervall = (60*60*24*30)\n",
    "\n",
    "def getDaysIntervall(dt):\n",
    "    return floor((dt.timestamp())/intervall) * intervall"
   ]
  },
  {
   "cell_type": "code",
   "execution_count": 198,
   "metadata": {},
   "outputs": [],
   "source": [
    "# Add your code and description here\n",
    "thirty_day_quest = questions_rdd.filter(\"Tags like '%<pyspark>%'\")\\\n",
    "                .select('CreationDate').rdd\\\n",
    "                .map(lambda r: (getDaysIntervall(r[0]), 1))\\\n",
    "                .reduceByKey(lambda a,b: a+b)\\\n",
    "                .map(lambda r: (datetime.datetime.fromtimestamp(r[0]), r[1]))\n"
   ]
  },
  {
   "cell_type": "code",
   "execution_count": 201,
   "metadata": {},
   "outputs": [
    {
     "data": {
      "text/plain": [
       "<matplotlib.axes._subplots.AxesSubplot at 0x7f505b36ff28>"
      ]
     },
     "execution_count": 201,
     "metadata": {},
     "output_type": "execute_result"
    },
    {
     "data": {
      "image/png": "[encoded data removed]",
      "text/plain": [
       "<Figure size 432x288 with 1 Axes>"
      ]
     },
     "metadata": {},
     "output_type": "display_data"
    }
   ],
   "source": [
    "pd.DataFrame(thirty_day_quest.collect())\\\n",
    "                                .rename(columns={0:'Intervall', 1: 'Number of Questions'})\\\n",
    "                                .set_index('Intervall').plot()"
   ]
  }
 ],
 "metadata": {
  "kernelspec": {
   "display_name": "Python 3",
   "language": "python",
   "name": "python3"
  },
  "language_info": {
   "codemirror_mode": {
    "name": "ipython",
    "version": 3
   },
   "file_extension": ".py",
   "mimetype": "text/x-python",
   "name": "python",
   "nbconvert_exporter": "python",
   "pygments_lexer": "ipython3",
   "version": "3.6.5"
  }
 },
 "nbformat": 4,
 "nbformat_minor": 2
}
