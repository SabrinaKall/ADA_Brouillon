{
 "cells": [
  {
   "cell_type": "markdown",
   "metadata": {},
   "source": [
    "# ADA 2018 - Homework 3\n",
    "\n",
    "\n",
    "\n",
    "## Undestanding the StackOverflow community\n",
    "\n",
    "\n",
    "Deadline: Nov 7th 2018, 23:59:59\n",
    "\n",
    "Submission link: Check channel homework-3-public"
   ]
  },
  {
   "cell_type": "markdown",
   "metadata": {},
   "source": [
    "StackOverflow is the most popular programming-related Q&A website. It serves as a platform for users to ask and answer questions and to vote questions and answers up or down. Users of StackOverflow can earn reputation points and \"badges\"; for example, a person is awarded 10 reputation points for receiving an \"up\" vote on an answer given to a question, and 5 points for the \"up\" vote on a question asked. Also, users receive badges for their valued contributions, which represents a kind of gamification of the traditional Q&A site. \n",
    "\n",
    "[Learn more about StackOverflow on Wikipedia](https://en.wikipedia.org/wiki/Stack_Overflow)\n",
    "\n",
    "----\n",
    "\n",
    "Dataset link:\n",
    "\n",
    "https://drive.google.com/open?id=1POlGjqzw9v_pZ_bUnXGihOgk45kbvNjB\n",
    "\n",
    "http://iccluster053.iccluster.epfl.ch/Posts.json.zip (mirror 1)\n",
    "\n",
    "https://iloveadatas.com/datasets/Posts.json.zip (mirror 2)\n",
    "\n",
    "Dataset description:\n",
    "\n",
    "* **Id**: Id of the post\n",
    "* **CreationDate**: Creation date of the post (String format)\n",
    "* **PostTypeId**: Type of post (Question = 1, Answer = 2)\n",
    "* **ParentId**: The id of the question. Only present if PostTypeId = 2\n",
    "* **Score**: Points assigned by the users\n",
    "* **Tags**: Tags of the question. Only present if PostTypeId = 1\n",
    "* **Title**: Only present if PostTypeId = 1\n",
    "* **ViewCount**: Only present if PostTypeId = 1\n",
    "\n",
    "The dataset format is JSON. Here are examples of a question and an answer:\n",
    "\n",
    "Question:\n",
    "```json\n",
    "{\n",
    "    \"Id\": 10130734,\n",
    "    \"CreationDate\": \"2012-04-12T19:51:25.793+02:00\",\n",
    "    \"PostTypeId\": 1,\n",
    "    \"Score\": 4,\n",
    "    \"Tags\": \"<python><pandas>\",\n",
    "    \"Title\": \"Best way to insert a new value\",\n",
    "    \"ViewCount\": 3803\n",
    "}\n",
    "```\n",
    "\n",
    "Answer:\n",
    "```json\n",
    "{  \n",
    "   \"CreationDate\":\"2010-10-26T03:19:05.063+02:00\",\n",
    "   \"Id\":4020440,\n",
    "   \"ParentId\":4020214,\n",
    "   \"PostTypeId\":2,\n",
    "   \"Score\":1\n",
    "}\n",
    "```\n",
    "\n",
    "----\n",
    "Useful resources:\n",
    "\n",
    "**Spark SQL, DataFrames and Datasets Guide**\n",
    "\n",
    "https://spark.apache.org/docs/latest/sql-programming-guide.html\n",
    "\n",
    "**Database schema documentation for the public data dump**\n",
    "\n",
    "https://meta.stackexchange.com/questions/2677/database-schema-documentation-for-the-public-data-dump-and-sede\n",
    "\n",
    "----\n",
    "\n",
    "**Note:** Use Spark where possible. Some computations can take more than 10 minutes on a common notebook. Consider to save partial results on disk."
   ]
  },
  {
   "cell_type": "code",
   "execution_count": 1,
   "metadata": {},
   "outputs": [],
   "source": [
    "import re\n",
    "import pandas as pd\n",
    "import numpy as np\n",
    "import seaborn as sns\n",
    "import matplotlib\n",
    "import matplotlib.pyplot as plt\n",
    "%matplotlib inline\n",
    "\n",
    "import findspark\n",
    "findspark.init('/opt/spark/spark-2.3.2-bin-hadoop2.7/')\n",
    "\n",
    "from matplotlib import rcParams\n",
    "from matplotlib.ticker import MultipleLocator, FormatStrFormatter\n",
    "\n",
    "from pyspark.sql import *\n",
    "from pyspark.sql.functions import *\n",
    "from pyspark.sql.functions import min\n",
    "from pyspark.sql.functions import udf\n",
    "from pyspark.sql.functions import split\n",
    "from pyspark.sql.functions import explode\n",
    "\n",
    "from pyspark.sql.types import StringType\n",
    "from pyspark.sql.types import TimestampType\n",
    "\n",
    "from pyspark.sql import SparkSession\n",
    "from pyspark import SparkContext\n",
    "\n",
    "from math import floor\n",
    "\n",
    "from datetime import datetime\n",
    "\n",
    "spark = SparkSession.builder.getOrCreate()\n"
   ]
  },
  {
   "cell_type": "code",
   "execution_count": 2,
   "metadata": {},
   "outputs": [],
   "source": [
    "DATA_DIR = 'data/'"
   ]
  },
  {
   "cell_type": "code",
   "execution_count": 52,
   "metadata": {},
   "outputs": [],
   "source": [
    "#Constant variables to select either questions or answers in dataframe\n",
    "QUESTION_ID = 1\n",
    "ANSWER_ID = 2\n",
    "\n",
    "#Constants to set text in bold\n",
    "BOLD = '\\033[1m'\n",
    "UNBOLD = '\\033[0m'"
   ]
  },
  {
   "cell_type": "markdown",
   "metadata": {},
   "source": [
    "### Task A: Convert the dataset to a more convenient format\n",
    "As a warm-up task (and to avoid to warm up your laptop too much), load the dataset into a Spark dataframe, show the content, and save it in the _Parquet_ format. Use this step to convert the fields to a more convenient form.\n",
    "\n",
    "Answer the following questions:\n",
    "\n",
    "1. How many questions have been asked on StackOverflow?\n",
    "2. How many answers have been given?\n",
    "3. What is the percentage of questions with a score of 0?\n",
    "\n",
    "**Hint:** The next tasks involve a time difference. Consider storing time in numeric format.\n",
    "\n",
    "**Hint:** Load the dataset from the Parquet file for the next tasks."
   ]
  },
  {
   "cell_type": "code",
   "execution_count": 4,
   "metadata": {},
   "outputs": [
    {
     "name": "stdout",
     "output_type": "stream",
     "text": [
      "+--------------------+-------+--------+----------+-----+--------------------+--------------------+---------+\n",
      "|        CreationDate|     Id|ParentId|PostTypeId|Score|                Tags|               Title|ViewCount|\n",
      "+--------------------+-------+--------+----------+-----+--------------------+--------------------+---------+\n",
      "|2010-10-26T03:17:...|4020437|    null|         1|    0|<asp.net-mvc><jqu...|display jquery di...|      510|\n",
      "|2010-10-26T03:18:...|4020438|    null|         1|    0|<javascript><html...|Why can only my m...|       62|\n",
      "|2010-10-26T03:19:...|4020440| 4020214|         2|    1|                null|                null|     null|\n",
      "|2010-10-26T03:19:...|4020441| 3938154|         2|    0|                null|                null|     null|\n",
      "|2010-10-26T03:20:...|4020443| 4020419|         2|  324|                null|                null|     null|\n",
      "+--------------------+-------+--------+----------+-----+--------------------+--------------------+---------+\n",
      "only showing top 5 rows\n",
      "\n"
     ]
    }
   ],
   "source": [
    "#Load the data into a spark dataframe\n",
    "posts_rdd = spark.read.json(DATA_DIR + \"Posts.json\")\n",
    "\n",
    "#Display spark dataframe\n",
    "posts_rdd.show(5)"
   ]
  },
  {
   "cell_type": "code",
   "execution_count": 5,
   "metadata": {},
   "outputs": [
    {
     "name": "stdout",
     "output_type": "stream",
     "text": [
      "+--------------------+-------+--------+----------+-----+--------------------+---------+\n",
      "|        CreationDate|     Id|ParentId|PostTypeId|Score|                Tags|ViewCount|\n",
      "+--------------------+-------+--------+----------+-----+--------------------+---------+\n",
      "|2010-10-26 03:17:...|4020437|    null|         1|    0|<asp.net-mvc><jqu...|      510|\n",
      "|2010-10-26 03:18:...|4020438|    null|         1|    0|<javascript><html...|       62|\n",
      "|2010-10-26 03:19:...|4020440| 4020214|         2|    1|                null|     null|\n",
      "|2010-10-26 03:19:...|4020441| 3938154|         2|    0|                null|     null|\n",
      "|2010-10-26 03:20:...|4020443| 4020419|         2|  324|                null|     null|\n",
      "+--------------------+-------+--------+----------+-----+--------------------+---------+\n",
      "only showing top 5 rows\n",
      "\n"
     ]
    }
   ],
   "source": [
    "# Adapt data\n",
    "# Changing string dates and time to TimeStamp spark variable\n",
    "# We never use the title fields in this homework, so we drop them for optimization\n",
    "posts_rdd = posts_rdd.withColumn('CreationDate', posts_rdd['CreationDate'].cast(TimestampType())).drop('Title')\n",
    "\n",
    "# Display dataset with corrected time and dates\n",
    "posts_rdd.show(5)"
   ]
  },
  {
   "cell_type": "code",
   "execution_count": 6,
   "metadata": {},
   "outputs": [],
   "source": [
    "#Create Parquet file\n",
    "posts_rdd.write.mode(\"overwrite\").parquet(DATA_DIR + \"Posts.parquet\")"
   ]
  },
  {
   "cell_type": "code",
   "execution_count": 7,
   "metadata": {},
   "outputs": [],
   "source": [
    "#Load and work on Parquet file\n",
    "posts_parquet = spark.read.parquet(DATA_DIR + \"Posts.parquet\")"
   ]
  },
  {
   "cell_type": "code",
   "execution_count": 8,
   "metadata": {},
   "outputs": [
    {
     "name": "stdout",
     "output_type": "stream",
     "text": [
      "+--------------------+-------+--------+----------+-----+--------------------+---------+\n",
      "|        CreationDate|     Id|ParentId|PostTypeId|Score|                Tags|ViewCount|\n",
      "+--------------------+-------+--------+----------+-----+--------------------+---------+\n",
      "|2010-12-15 09:13:...|4448316|    null|         1|    1|<ruby><regex><str...|      230|\n",
      "|2010-12-15 09:13:...|4448318| 4448268|         2|    4|                null|     null|\n",
      "|2010-12-15 09:13:...|4448319| 2671434|         2|    0|                null|     null|\n",
      "|2010-12-15 09:13:...|4448320| 4448177|         2|    2|                null|     null|\n",
      "|2010-12-15 09:14:...|4448321|    null|         1|  167|<objective-c><uit...|   135804|\n",
      "+--------------------+-------+--------+----------+-----+--------------------+---------+\n",
      "only showing top 5 rows\n",
      "\n"
     ]
    }
   ],
   "source": [
    "posts_parquet.show(5)"
   ]
  },
  {
   "cell_type": "code",
   "execution_count": 9,
   "metadata": {},
   "outputs": [],
   "source": [
    "#Extract questions and answers separatly, since we use them a lot\n",
    "questions_rdd = posts_parquet.filter(posts_parquet.PostTypeId == QUESTION_ID)\n",
    "answers_rdd = posts_parquet.filter(posts_parquet.PostTypeId == ANSWER_ID)"
   ]
  },
  {
   "cell_type": "markdown",
   "metadata": {},
   "source": [
    "__1. How many questions have been asked on StackOverflow?__"
   ]
  },
  {
   "cell_type": "code",
   "execution_count": 10,
   "metadata": {},
   "outputs": [
    {
     "name": "stdout",
     "output_type": "stream",
     "text": [
      "Number of questions: 15647060\n"
     ]
    }
   ],
   "source": [
    "#Get number of questions\n",
    "questions_num = questions_rdd.count()\n",
    "print('Number of questions:', questions_num)"
   ]
  },
  {
   "cell_type": "markdown",
   "metadata": {},
   "source": [
    "__2. How many answers have been given?__"
   ]
  },
  {
   "cell_type": "code",
   "execution_count": 11,
   "metadata": {},
   "outputs": [
    {
     "name": "stdout",
     "output_type": "stream",
     "text": [
      "Number of answers: 25192772\n"
     ]
    }
   ],
   "source": [
    "#Get number of answers\n",
    "answers_num = answers_rdd.count()\n",
    "print('Number of answers:', answers_num)"
   ]
  },
  {
   "cell_type": "markdown",
   "metadata": {},
   "source": [
    "__3. What is the percentage of questions with a score of 0?__\n",
    "\n",
    "Note that we interpreted the question as meaning \"out of all questions, how many have the score 0\"."
   ]
  },
  {
   "cell_type": "code",
   "execution_count": 12,
   "metadata": {},
   "outputs": [
    {
     "name": "stdout",
     "output_type": "stream",
     "text": [
      "Proportion of questions with a score of 0: 46.54 %\n"
     ]
    }
   ],
   "source": [
    "#Get proportion of answers with score 0\n",
    "zero_questions = questions_rdd\\\n",
    "                    .filter(posts_parquet.Score == 0)\\\n",
    "                    .count()*100/questions_num\n",
    "print('Proportion of questions with a score of 0:', \"%.2f\" % zero_questions, '%')"
   ]
  },
  {
   "cell_type": "markdown",
   "metadata": {},
   "source": [
    "### Task B: What are the 10 most popular tags?\n",
    "\n",
    "What are the most popular tags in StackOverflow? Use Spark to extract the information you need, and answer the following questions with Pandas and Matplotlib (or Seaborn):\n",
    "\n",
    "1. What is the proportion of tags that appear in fewer than 100 questions?\n",
    "2. Plot the distribution of the tag counts using an appropriate representation.\n",
    "3. Plot a bar chart with the number of questions for the 10 most popular tags.\n",
    "\n",
    "For each task describe your findings briefly."
   ]
  },
  {
   "cell_type": "markdown",
   "metadata": {},
   "source": [
    "__Pre-question data preparation__"
   ]
  },
  {
   "cell_type": "code",
   "execution_count": 13,
   "metadata": {
    "scrolled": true
   },
   "outputs": [
    {
     "name": "stdout",
     "output_type": "stream",
     "text": [
      "+-------+-----------+\n",
      "|     Id|       Tags|\n",
      "+-------+-----------+\n",
      "|4448316|       ruby|\n",
      "|4448316|      regex|\n",
      "|4448316|     string|\n",
      "|4448321|objective-c|\n",
      "|4448321|uitableview|\n",
      "+-------+-----------+\n",
      "only showing top 5 rows\n",
      "\n"
     ]
    }
   ],
   "source": [
    "#Cleaning and extracting question Id and Tags\n",
    "    #As seen in part A, there are sometime multiple Tags per question Id (each tag in <...>)\n",
    "    #Here, the Tags of the questions are separated into multiple rows with the same Id\n",
    "    # ->split extracts the tags\n",
    "    # ->explode creates a new row for each separated tag\n",
    "    # -> regexp_replace removes any remaining \"<\",\">\"\n",
    "    \n",
    "tags_rdd = questions_rdd\\\n",
    "            .select('Id', 'Tags')\\\n",
    "            .withColumn('Tags',explode(split('Tags','><')))\\\n",
    "            .withColumn('Tags',regexp_replace('Tags','[><]', ''))\n",
    "\n",
    "#Display separated and cleaned Tags with respective question Id\n",
    "tags_rdd.show(5)"
   ]
  },
  {
   "cell_type": "code",
   "execution_count": 14,
   "metadata": {},
   "outputs": [
    {
     "name": "stdout",
     "output_type": "stream",
     "text": [
      "+----------------+---------------+\n",
      "|            Tags|Tags_Occurrence|\n",
      "+----------------+---------------+\n",
      "|       rake-task|            603|\n",
      "|    hidden-files|            157|\n",
      "|          iframe|          26125|\n",
      "|database-restore|            553|\n",
      "|       arguments|           7157|\n",
      "+----------------+---------------+\n",
      "only showing top 5 rows\n",
      "\n"
     ]
    }
   ],
   "source": [
    "#We make a dataframe collecting all the tags and counting how many times they are each used\n",
    "tags_count = tags_rdd\\\n",
    "                .groupby('Tags')\\\n",
    "                .count()\\\n",
    "                .selectExpr('Tags as Tags', 'count as Tags_Occurrence') #rename the columns\n",
    "\n",
    "#Display tags and corresponding occurence in questions\n",
    "tags_count.show(5)"
   ]
  },
  {
   "cell_type": "markdown",
   "metadata": {},
   "source": [
    "__1. What is the proportion of tags that appear in fewer than 100 questions?__\n",
    "\n",
    "Two third of the tags appear in less than 100 questions. This means that considering all possible tags, most of them are rarely used. Only a few of them (at least one third) is often used."
   ]
  },
  {
   "cell_type": "code",
   "execution_count": 15,
   "metadata": {},
   "outputs": [
    {
     "name": "stdout",
     "output_type": "stream",
     "text": [
      "Proportion of tags that appear in less than 100 questions: 67.98 %\n"
     ]
    }
   ],
   "source": [
    "#Calculation proportion of tags that appear in less than 100 questions\n",
    "tags100_prop = tags_count\\\n",
    "                .filter(tags_count.Tags_Occurrence < 100)\\\n",
    "                .count()*100/tags_count.count()\n",
    "\n",
    "print('Proportion of tags that appear in less than 100 questions:', \"%.2f\" % tags100_prop, '%')"
   ]
  },
  {
   "cell_type": "markdown",
   "metadata": {},
   "source": [
    "__2. Plot the distribution of the tag counts using an appropriate representation.__\n",
    "\n",
    "As discussed previously, this histogram shows that most of the tags are rarely used. Only few tags have a high usage, indicating a possible power law at work."
   ]
  },
  {
   "cell_type": "code",
   "execution_count": 16,
   "metadata": {},
   "outputs": [
    {
     "data": {
      "text/plain": [
       "<matplotlib.axes._subplots.AxesSubplot at 0x7ff13d89a748>"
      ]
     },
     "execution_count": 16,
     "metadata": {},
     "output_type": "execute_result"
    },
    {
     "data": {
      "image/png": "[encoded data removed]",
      "text/plain": [
       "<Figure size 720x504 with 1 Axes>"
      ]
     },
     "metadata": {},
     "output_type": "display_data"
    }
   ],
   "source": [
    "#Plot the frequency at which a tag appear in a certain number of questions\n",
    "tags_count.toPandas().plot(\n",
    "                        kind='hist',\n",
    "                        by='Tags_Occurrence',\n",
    "                        title='Distribution of tags occurrence',\n",
    "                        logy=True,\n",
    "                        figsize=(10, 7)\n",
    "                        )"
   ]
  },
  {
   "cell_type": "markdown",
   "metadata": {},
   "source": [
    "__3. Plot a bar chart with the number of questions for the 10 most popular tags.__\n",
    "\n",
    "The most used tags represent progamming languages or common operating system. This is not surprising at all since they are really general tags."
   ]
  },
  {
   "cell_type": "code",
   "execution_count": 17,
   "metadata": {},
   "outputs": [
    {
     "data": {
      "text/plain": [
       "<matplotlib.axes._subplots.AxesSubplot at 0x7ff13e1c8860>"
      ]
     },
     "execution_count": 17,
     "metadata": {},
     "output_type": "execute_result"
    },
    {
     "data": {
      "image/png": "[encoded data removed]",
      "text/plain": [
       "<Figure size 432x288 with 1 Axes>"
      ]
     },
     "metadata": {},
     "output_type": "display_data"
    }
   ],
   "source": [
    "#Select 10 most popular tags overall (questions and answers)\n",
    "#(Chose \"sort + limit\" over \"top\" function to avoid unnecessary conversions)\n",
    "top10_tags = tags_count\\\n",
    "                .sort(desc('Tags_Occurrence'))\\\n",
    "                .select('Tags')\\\n",
    "                .limit(10)\n",
    "\n",
    "#Filter question Id associated to each tag (remember, tags_rdd contains a question id mapped to a tag the question has)\n",
    "top10_tags_ids = top10_tags\\\n",
    "                    .join(tags_rdd, on=['Tags'])\\\n",
    "                    .groupby('Tags')\\\n",
    "                    .count()\\\n",
    "                    .selectExpr('Tags as Tags', 'count as Tags_Number')\\\n",
    "                    .sort(desc('Tags_Number'))\n",
    "\n",
    "#Display results in bar chart\n",
    "top10_tags_ids.toPandas().plot(\n",
    "                            kind='bar',\n",
    "                            x='Tags',\n",
    "                            y='Tags_Number',\n",
    "                            title='Number of questions for the 10 most popular tags'\n",
    "                            )"
   ]
  },
  {
   "cell_type": "markdown",
   "metadata": {},
   "source": [
    "### Task C: View-score relation\n",
    "\n",
    "We want to investigate the correlation between the view count and the score of questions.\n",
    "\n",
    "1. Get the view count and score of the questions with tag ```random-effects``` and visualize the relation between these two variables using an appropriate plot.\n",
    "2. Are these two variables correlated? Use the Pearson coefficient to validate your hypothesis. Discuss your findings in detail.\n",
    "\n",
    "**Hint:** Inspect the data visually before drawing your conclusions."
   ]
  },
  {
   "cell_type": "code",
   "execution_count": 18,
   "metadata": {},
   "outputs": [
    {
     "data": {
      "text/html": [
       "<div>\n",
       "<style scoped>\n",
       "    .dataframe tbody tr th:only-of-type {\n",
       "        vertical-align: middle;\n",
       "    }\n",
       "\n",
       "    .dataframe tbody tr th {\n",
       "        vertical-align: top;\n",
       "    }\n",
       "\n",
       "    .dataframe thead th {\n",
       "        text-align: right;\n",
       "    }\n",
       "</style>\n",
       "<table border=\"1\" class=\"dataframe\">\n",
       "  <thead>\n",
       "    <tr style=\"text-align: right;\">\n",
       "      <th></th>\n",
       "      <th>Score</th>\n",
       "      <th>ViewCount</th>\n",
       "    </tr>\n",
       "  </thead>\n",
       "  <tbody>\n",
       "    <tr>\n",
       "      <th>0</th>\n",
       "      <td>-2</td>\n",
       "      <td>5345</td>\n",
       "    </tr>\n",
       "    <tr>\n",
       "      <th>1</th>\n",
       "      <td>4</td>\n",
       "      <td>852</td>\n",
       "    </tr>\n",
       "    <tr>\n",
       "      <th>2</th>\n",
       "      <td>1</td>\n",
       "      <td>69</td>\n",
       "    </tr>\n",
       "    <tr>\n",
       "      <th>3</th>\n",
       "      <td>1</td>\n",
       "      <td>156</td>\n",
       "    </tr>\n",
       "    <tr>\n",
       "      <th>4</th>\n",
       "      <td>0</td>\n",
       "      <td>23</td>\n",
       "    </tr>\n",
       "    <tr>\n",
       "      <th>5</th>\n",
       "      <td>25</td>\n",
       "      <td>42678</td>\n",
       "    </tr>\n",
       "    <tr>\n",
       "      <th>6</th>\n",
       "      <td>0</td>\n",
       "      <td>275</td>\n",
       "    </tr>\n",
       "    <tr>\n",
       "      <th>7</th>\n",
       "      <td>0</td>\n",
       "      <td>732</td>\n",
       "    </tr>\n",
       "    <tr>\n",
       "      <th>8</th>\n",
       "      <td>1</td>\n",
       "      <td>252</td>\n",
       "    </tr>\n",
       "    <tr>\n",
       "      <th>9</th>\n",
       "      <td>4</td>\n",
       "      <td>3057</td>\n",
       "    </tr>\n",
       "  </tbody>\n",
       "</table>\n",
       "</div>"
      ],
      "text/plain": [
       "   Score  ViewCount\n",
       "0     -2       5345\n",
       "1      4        852\n",
       "2      1         69\n",
       "3      1        156\n",
       "4      0         23\n",
       "5     25      42678\n",
       "6      0        275\n",
       "7      0        732\n",
       "8      1        252\n",
       "9      4       3057"
      ]
     },
     "execution_count": 18,
     "metadata": {},
     "output_type": "execute_result"
    }
   ],
   "source": [
    "#Extract view count and score of questions with 'random-effects' tag\n",
    "view_score_rdd = questions_rdd\\\n",
    "                    .select('Id', 'Score', 'Tags', 'ViewCount')\\\n",
    "                    .withColumn('Tags',explode(split('Tags','><')))\\\n",
    "                    .withColumn('Tags',regexp_replace('Tags','[><]', ''))\\\n",
    "                    .filter(\"Tags like 'random-effects'\")\\\n",
    "                    .drop('Id', 'Tags')\n",
    "\n",
    "#Create Pandas dataframe for plotting\n",
    "view_score_pandas = view_score_rdd.toPandas()\n",
    "view_score_pandas.head(10)"
   ]
  },
  {
   "cell_type": "code",
   "execution_count": 19,
   "metadata": {},
   "outputs": [
    {
     "data": {
      "text/html": [
       "<div>\n",
       "<style scoped>\n",
       "    .dataframe tbody tr th:only-of-type {\n",
       "        vertical-align: middle;\n",
       "    }\n",
       "\n",
       "    .dataframe tbody tr th {\n",
       "        vertical-align: top;\n",
       "    }\n",
       "\n",
       "    .dataframe thead th {\n",
       "        text-align: right;\n",
       "    }\n",
       "</style>\n",
       "<table border=\"1\" class=\"dataframe\">\n",
       "  <thead>\n",
       "    <tr style=\"text-align: right;\">\n",
       "      <th></th>\n",
       "      <th>Score</th>\n",
       "      <th>ViewCount</th>\n",
       "    </tr>\n",
       "  </thead>\n",
       "  <tbody>\n",
       "    <tr>\n",
       "      <th>count</th>\n",
       "      <td>100.000000</td>\n",
       "      <td>100.000000</td>\n",
       "    </tr>\n",
       "    <tr>\n",
       "      <th>mean</th>\n",
       "      <td>1.500000</td>\n",
       "      <td>1191.830000</td>\n",
       "    </tr>\n",
       "    <tr>\n",
       "      <th>std</th>\n",
       "      <td>4.154832</td>\n",
       "      <td>5037.166977</td>\n",
       "    </tr>\n",
       "    <tr>\n",
       "      <th>min</th>\n",
       "      <td>-2.000000</td>\n",
       "      <td>10.000000</td>\n",
       "    </tr>\n",
       "    <tr>\n",
       "      <th>25%</th>\n",
       "      <td>0.000000</td>\n",
       "      <td>64.250000</td>\n",
       "    </tr>\n",
       "    <tr>\n",
       "      <th>50%</th>\n",
       "      <td>0.000000</td>\n",
       "      <td>179.000000</td>\n",
       "    </tr>\n",
       "    <tr>\n",
       "      <th>75%</th>\n",
       "      <td>1.000000</td>\n",
       "      <td>534.000000</td>\n",
       "    </tr>\n",
       "    <tr>\n",
       "      <th>max</th>\n",
       "      <td>31.000000</td>\n",
       "      <td>42678.000000</td>\n",
       "    </tr>\n",
       "  </tbody>\n",
       "</table>\n",
       "</div>"
      ],
      "text/plain": [
       "            Score     ViewCount\n",
       "count  100.000000    100.000000\n",
       "mean     1.500000   1191.830000\n",
       "std      4.154832   5037.166977\n",
       "min     -2.000000     10.000000\n",
       "25%      0.000000     64.250000\n",
       "50%      0.000000    179.000000\n",
       "75%      1.000000    534.000000\n",
       "max     31.000000  42678.000000"
      ]
     },
     "execution_count": 19,
     "metadata": {},
     "output_type": "execute_result"
    }
   ],
   "source": [
    "#View the data\n",
    "view_score_pandas.describe()"
   ]
  },
  {
   "cell_type": "code",
   "execution_count": 20,
   "metadata": {},
   "outputs": [
    {
     "name": "stdout",
     "output_type": "stream",
     "text": [
      "\u001b[1mRelation between Score and View Count:\u001b[0m\n",
      "\u001b[1m -> Blue line: \u001b[0m   best fit linear regression\n",
      "\u001b[1m -> Shaded zone: \u001b[0m Confidence interval for the regession estimate\n"
     ]
    },
    {
     "data": {
      "image/png": "[encoded data removed]",
      "text/plain": [
       "<Figure size 720x432 with 1 Axes>"
      ]
     },
     "metadata": {},
     "output_type": "display_data"
    }
   ],
   "source": [
    "#Plot the Score in relation to the ViewCount\n",
    "rcParams['figure.figsize'] = (10, 6) #increase figure size\n",
    "\n",
    "sns.regplot(x=view_score_pandas['ViewCount'], y=view_score_pandas['Score'])\n",
    "print(BOLD + 'Relation between Score and View Count:' + UNBOLD)\n",
    "print(BOLD + ' -> Blue line: ' + UNBOLD +'   best fit linear regression')\n",
    "print(BOLD + ' -> Shaded zone: ' + UNBOLD + ' Confidence interval for the regession estimate')"
   ]
  },
  {
   "cell_type": "markdown",
   "metadata": {},
   "source": [
    "We see in the stats (and on the graph) that the max ViewCount is much bigger than the mean, meaning outliers. "
   ]
  },
  {
   "cell_type": "code",
   "execution_count": 21,
   "metadata": {},
   "outputs": [],
   "source": [
    "#Remove the outliers!\n",
    "normal_view_score = view_score_pandas[view_score_pandas['ViewCount']<20000]"
   ]
  },
  {
   "cell_type": "code",
   "execution_count": 22,
   "metadata": {},
   "outputs": [
    {
     "name": "stdout",
     "output_type": "stream",
     "text": [
      "\u001b[1mRelation between Score and View Count:\u001b[0m\n",
      "\u001b[1m -> Blue line: \u001b[0m   best fit linear regression\n",
      "\u001b[1m -> Shaded zone: \u001b[0m Confidence interval for the regession estimate\n"
     ]
    },
    {
     "data": {
      "image/png": "[encoded data removed]",
      "text/plain": [
       "<Figure size 720x432 with 1 Axes>"
      ]
     },
     "metadata": {},
     "output_type": "display_data"
    }
   ],
   "source": [
    "#Plot the Score in relation to the ViewCount without outliers\n",
    "#Note: this will produce a \"FutureWarning\" that does not impact the result for now\n",
    "sns.regplot(x=normal_view_score['ViewCount'], y=normal_view_score['Score'])\n",
    "print(BOLD + 'Relation between Score and View Count:' + UNBOLD)\n",
    "print(BOLD + ' -> Blue line: ' + UNBOLD +'   best fit linear regression')\n",
    "print(BOLD + ' -> Shaded zone: ' + UNBOLD + ' Confidence interval for the regession estimate')"
   ]
  },
  {
   "cell_type": "code",
   "execution_count": 23,
   "metadata": {},
   "outputs": [
    {
     "name": "stdout",
     "output_type": "stream",
     "text": [
      "\u001b[1m Pearson Score: \u001b[0m\n"
     ]
    },
    {
     "data": {
      "text/html": [
       "<div>\n",
       "<style scoped>\n",
       "    .dataframe tbody tr th:only-of-type {\n",
       "        vertical-align: middle;\n",
       "    }\n",
       "\n",
       "    .dataframe tbody tr th {\n",
       "        vertical-align: top;\n",
       "    }\n",
       "\n",
       "    .dataframe thead th {\n",
       "        text-align: right;\n",
       "    }\n",
       "</style>\n",
       "<table border=\"1\" class=\"dataframe\">\n",
       "  <thead>\n",
       "    <tr style=\"text-align: right;\">\n",
       "      <th></th>\n",
       "      <th>Score</th>\n",
       "      <th>ViewCount</th>\n",
       "    </tr>\n",
       "  </thead>\n",
       "  <tbody>\n",
       "    <tr>\n",
       "      <th>Score</th>\n",
       "      <td>1.000000</td>\n",
       "      <td>0.882197</td>\n",
       "    </tr>\n",
       "    <tr>\n",
       "      <th>ViewCount</th>\n",
       "      <td>0.882197</td>\n",
       "      <td>1.000000</td>\n",
       "    </tr>\n",
       "  </tbody>\n",
       "</table>\n",
       "</div>"
      ],
      "text/plain": [
       "              Score  ViewCount\n",
       "Score      1.000000   0.882197\n",
       "ViewCount  0.882197   1.000000"
      ]
     },
     "metadata": {},
     "output_type": "display_data"
    },
    {
     "name": "stdout",
     "output_type": "stream",
     "text": [
      "\n",
      "\n",
      "\u001b[1m Pearson Score without outliers: \u001b[0m\n"
     ]
    },
    {
     "data": {
      "text/html": [
       "<div>\n",
       "<style scoped>\n",
       "    .dataframe tbody tr th:only-of-type {\n",
       "        vertical-align: middle;\n",
       "    }\n",
       "\n",
       "    .dataframe tbody tr th {\n",
       "        vertical-align: top;\n",
       "    }\n",
       "\n",
       "    .dataframe thead th {\n",
       "        text-align: right;\n",
       "    }\n",
       "</style>\n",
       "<table border=\"1\" class=\"dataframe\">\n",
       "  <thead>\n",
       "    <tr style=\"text-align: right;\">\n",
       "      <th></th>\n",
       "      <th>Score</th>\n",
       "      <th>ViewCount</th>\n",
       "    </tr>\n",
       "  </thead>\n",
       "  <tbody>\n",
       "    <tr>\n",
       "      <th>Score</th>\n",
       "      <td>1.000000</td>\n",
       "      <td>0.439389</td>\n",
       "    </tr>\n",
       "    <tr>\n",
       "      <th>ViewCount</th>\n",
       "      <td>0.439389</td>\n",
       "      <td>1.000000</td>\n",
       "    </tr>\n",
       "  </tbody>\n",
       "</table>\n",
       "</div>"
      ],
      "text/plain": [
       "              Score  ViewCount\n",
       "Score      1.000000   0.439389\n",
       "ViewCount  0.439389   1.000000"
      ]
     },
     "metadata": {},
     "output_type": "display_data"
    }
   ],
   "source": [
    "#Pearson coefficients with and without outliers\n",
    "print(BOLD, 'Pearson Score:', UNBOLD)\n",
    "display(view_score_pandas.corr(method='pearson'))\n",
    "print('\\n')\n",
    "print(BOLD, 'Pearson Score without outliers:', UNBOLD)\n",
    "display(normal_view_score.corr(method='pearson'))"
   ]
  },
  {
   "cell_type": "markdown",
   "metadata": {},
   "source": [
    "__2. Are these two variables correlated? Use the Pearson coefficient to validate your hypothesis. Discuss your findings in detail.__\n",
    "\n",
    "At first glance, it might seem that they are, looking at the first graph, but once we remove the outliers, we get a closer look at the distribution of the more common values, and they do not appear to correlate. This is confirmed by the Pearson score, which at first makes it seem like correlation is very likely (0.88), but drops to 0.43 without the outliers."
   ]
  },
  {
   "cell_type": "markdown",
   "metadata": {},
   "source": [
    "### Task D: What are the tags with the fastest first answer?\n",
    "\n",
    "What are the tags that have the fastest response time from the community? We define the response time as the difference in seconds between the timestamps of the question and of the first answer received.\n",
    "\n",
    "1. Get the response time for the first answer of the questions with the tags ```python``` and ```java```.\n",
    "2. Plot the two distributions in an appropriate format. What do you observe? Describe your findings and discuss the following distribution properties: mean, median, standard deviation.\n",
    "3. We believe that the response time is lower for questions related to Python (compare to Java). Contradict or confirm this assumption by estimating the proper statistic with bootstrapping. Visualize the 95% confidence intervals with box plots and describe your findings.\n",
    "3. Repeat the first analysis (D1) by using the proper statistic to measure the response time for the tags that appear at least 5000 times. Plot the distribution of the 10 tags with the fastest response time.\n"
   ]
  },
  {
   "cell_type": "markdown",
   "metadata": {},
   "source": [
    "__1. Get the response time for the first answer of the questions with the tags python and java.__"
   ]
  },
  {
   "cell_type": "code",
   "execution_count": 24,
   "metadata": {},
   "outputs": [],
   "source": [
    "#Find earliest answer to a question (group by parentId and pick the earliest Creation Date of the group)\n",
    "earliest_answers = answers_rdd.groupBy('ParentId').agg(min('CreationDate'))\\\n",
    "                       .withColumnRenamed('ParentId', 'Id').withColumnRenamed('min(CreationDate)', 'AnswerDate')\n",
    "\n",
    "#helper function to calculate the time (in seconds) between the question and the first response\n",
    "def getMinResponseTime(questions):\n",
    "    q_and_a = questions.join(earliest_answers, 'Id')\n",
    "    return q_and_a.rdd.map(lambda r: (r['AnswerDate'] - r['CreationDate']).total_seconds())"
   ]
  },
  {
   "cell_type": "code",
   "execution_count": 25,
   "metadata": {},
   "outputs": [],
   "source": [
    "#Extract questions about python and java\n",
    "python_questions = questions_rdd.filter(\"Tags like '%<python>%'\").select('Id', 'CreationDate')\n",
    "java_questions = questions_rdd.filter(\"Tags like '%<java>%'\").select('Id', 'CreationDate')"
   ]
  },
  {
   "cell_type": "code",
   "execution_count": 26,
   "metadata": {},
   "outputs": [
    {
     "data": {
      "text/plain": [
       "[7398.97, 5088.38, 510.994, 756.637, 116.33]"
      ]
     },
     "execution_count": 26,
     "metadata": {},
     "output_type": "execute_result"
    }
   ],
   "source": [
    "#Compute response time to questions about python\n",
    "python_response_time = getMinResponseTime(python_questions)\n",
    "python_response_time.take(5) #litte overview"
   ]
  },
  {
   "cell_type": "code",
   "execution_count": 27,
   "metadata": {},
   "outputs": [
    {
     "data": {
      "text/plain": [
       "[1921.887, 439.077, 290.054, 155.953, 3076.006]"
      ]
     },
     "execution_count": 27,
     "metadata": {},
     "output_type": "execute_result"
    }
   ],
   "source": [
    "#Compute response time to questions about java\n",
    "java_response_time = getMinResponseTime(java_questions)\n",
    "java_response_time.take(5) #litte overview"
   ]
  },
  {
   "cell_type": "markdown",
   "metadata": {},
   "source": [
    "__2. Plot the two distributions in an appropriate format. What do you observe? Describe your findings and discuss the following distribution properties: mean, median, standard deviation.__"
   ]
  },
  {
   "cell_type": "code",
   "execution_count": 51,
   "metadata": {},
   "outputs": [
    {
     "data": {
      "text/plain": [
       "Text(0.5,1,'Boxplot of response times for questions with java tags versus python tags')"
      ]
     },
     "execution_count": 51,
     "metadata": {},
     "output_type": "execute_result"
    },
    {
     "data": {
      "image/png": "[encoded data removed]",
      "text/plain": [
       "<Figure size 720x432 with 1 Axes>"
      ]
     },
     "metadata": {},
     "output_type": "display_data"
    }
   ],
   "source": [
    "#Plot the two response time distribution in boxplots with log y-axis\n",
    "python_time = pd.Series(python_response_time.collect())\n",
    "java_time = pd.Series(java_response_time.collect())\n",
    "\n",
    "time = [python_time, java_time]\n",
    "\n",
    "fig, ax = plt.subplots()\n",
    "ax.boxplot(time, labels=['Python', 'Java'], widths=(0.8))\n",
    "ax.set_yscale('symlog')\n",
    "ax.set_title('Boxplot of response times for questions with java tags versus python tags')"
   ]
  },
  {
   "cell_type": "code",
   "execution_count": 29,
   "metadata": {},
   "outputs": [
    {
     "name": "stdout",
     "output_type": "stream",
     "text": [
      "\u001b[1m Means: \u001b[0m\n",
      "   Java:  11.54  [days]\n",
      "   Python:  11.35  [days]\n",
      "\n",
      " \u001b[1m Medians: \u001b[0m\n",
      "   Java:  0.34  [hours]\n",
      "   Python:  0.37  [hours]\n",
      "\n",
      " \u001b[1m Std dev: \u001b[0m\n",
      "   Java:  82.50  [days]\n",
      "   Python:  79.86  [days]\n",
      "\n",
      "[Java size:   1179070 ]\n",
      "[Python size:  830160 ]\n"
     ]
    }
   ],
   "source": [
    "def printInfo(java_stuff, python_stuff):\n",
    "    print(BOLD, 'Means:', UNBOLD)\n",
    "    print('   Java: ', \"%.2f\" % (java_stuff.mean()/(3600 * 24)), ' [days]')\n",
    "    print('   Python: ', \"%.2f\" % (python_stuff.mean()/(3600 * 24)), ' [days]')\n",
    "\n",
    "    print('\\n', BOLD, 'Medians:', UNBOLD)\n",
    "    print('   Java: ', \"%.2f\" % (java_stuff.median()/(3600)), ' [hours]')\n",
    "    print('   Python: ', \"%.2f\" % (python_stuff.median()/(3600)), ' [hours]')\n",
    "\n",
    "    print('\\n',BOLD, 'Std dev:', UNBOLD)\n",
    "    print('   Java: ', \"%.2f\" % (java_stuff.std()/(3600 * 24)), ' [days]')\n",
    "    print('   Python: ', \"%.2f\" % (python_stuff.std()/(3600 * 24)), ' [days]')\n",
    "\n",
    "    print('\\n[Java size:  ', (java_stuff.count()), ']')\n",
    "    print('[Python size: ', (python_stuff.count()), ']')\n",
    "    \n",
    "printInfo(java_time, python_time)"
   ]
  },
  {
   "cell_type": "markdown",
   "metadata": {},
   "source": [
    "__Discussion:__\n",
    "\n",
    "We can see that the distributions of java and python tags are almost identical, even though the java tags has slightly more data.\n",
    "\n",
    "However, we notice that the mean and the median are extremely different. Since we know that means and standard deviations are extremely susceptible to outliers, we can theorize here that there are outliers with very, very late response times of sometimes several weeks to months for both 'Java' and 'Python'.\n",
    "\n",
    "Some outsiders represented negative time, which are supposively due to errors in the dataset (since a question cannot be answered before it is asked). We can reproduce the graph without them below."
   ]
  },
  {
   "cell_type": "code",
   "execution_count": 50,
   "metadata": {},
   "outputs": [
    {
     "data": {
      "text/plain": [
       "Text(0.5,1,'Boxplot of positive response times for questions with java tags versus python tags')"
      ]
     },
     "execution_count": 50,
     "metadata": {},
     "output_type": "execute_result"
    },
    {
     "data": {
      "image/png": "[encoded data removed]",
      "text/plain": [
       "<Figure size 720x432 with 1 Axes>"
      ]
     },
     "metadata": {},
     "output_type": "display_data"
    }
   ],
   "source": [
    "python_time_pos = pd.Series(python_response_time.filter(lambda r: r > 0).collect())\n",
    "java_time_pos = pd.Series(java_response_time.filter(lambda r: r > 0).collect())\n",
    "\n",
    "#Plot the two response time distribution in boxplots with log y-axis\n",
    "time_pos = [python_time_pos, java_time_pos]\n",
    "\n",
    "fig, ax = plt.subplots()\n",
    "ax.boxplot(time_pos, labels=['Python', 'Java'], widths=(0.8))\n",
    "ax.set_yscale('symlog')\n",
    "ax.set_title(label='Boxplot of positive response times for questions with java tags versus python tags')"
   ]
  },
  {
   "cell_type": "code",
   "execution_count": 31,
   "metadata": {},
   "outputs": [
    {
     "name": "stdout",
     "output_type": "stream",
     "text": [
      "\u001b[1m Means: \u001b[0m\n",
      "   Java:  11.56  [days]\n",
      "   Python:  11.39  [days]\n",
      "\n",
      " \u001b[1m Medians: \u001b[0m\n",
      "   Java:  0.34  [hours]\n",
      "   Python:  0.38  [hours]\n",
      "\n",
      " \u001b[1m Std dev: \u001b[0m\n",
      "   Java:  82.56  [days]\n",
      "   Python:  79.96  [days]\n",
      "\n",
      "[Java size:   1176830 ]\n",
      "[Python size:  827858 ]\n"
     ]
    }
   ],
   "source": [
    "printInfo(java_time_pos, python_time_pos)"
   ]
  },
  {
   "cell_type": "markdown",
   "metadata": {},
   "source": [
    "We see that this affects only a small number of values, so on the whole, nothing changes."
   ]
  },
  {
   "cell_type": "markdown",
   "metadata": {},
   "source": [
    "__3) We believe that the response time is lower for questions related to Python. Contradict or confirm this assumption by estimating the proper statistic with bootstrapping. Visualize the 95% confidence intervals with box plots and describe your findings.__"
   ]
  },
  {
   "cell_type": "code",
   "execution_count": 47,
   "metadata": {},
   "outputs": [
    {
     "data": {
      "text/plain": [
       "Text(0.5,1,'Zoomed in and notched boxplot of median response times for questions with java tags versus python tags')"
      ]
     },
     "execution_count": 47,
     "metadata": {},
     "output_type": "execute_result"
    },
    {
     "data": {
      "image/png": "[encoded data removed]",
      "text/plain": [
       "<Figure size 720x432 with 1 Axes>"
      ]
     },
     "metadata": {},
     "output_type": "display_data"
    }
   ],
   "source": [
    "fig, ax = plt.subplots()\n",
    "ax.boxplot(time, labels=['Python', 'Java'], widths=(0.8), bootstrap=100, notch=True)\n",
    "ax.set_yscale('symlog')\n",
    "ax.set_ylim([1000,2000])\n",
    "ax.set_title('Zoomed in and notched boxplot of median response times for questions with java tags versus python tags')"
   ]
  },
  {
   "cell_type": "markdown",
   "metadata": {},
   "source": [
    "__Discussion:__\n",
    "\n",
    "While Python have a lower mean response time, by zooming on the two boxplot medians and notches, we can say that the median response time is lower for Java and different from Python, within a 95% confidence interval."
   ]
  },
  {
   "cell_type": "markdown",
   "metadata": {},
   "source": [
    "__4. Repeat the first analysis (D1) by using the proper statistic to measure the response time for the tags that appear at least 5000 times. Plot the distribution of the 10 tags with the fastest response time.__"
   ]
  },
  {
   "cell_type": "code",
   "execution_count": 33,
   "metadata": {},
   "outputs": [],
   "source": [
    "#Collect most common tags\n",
    "common_tags = tags_count.filter(tags_count.Tags_Occurrence >=5000).rdd.map(lambda r: r[0]).collect()"
   ]
  },
  {
   "cell_type": "code",
   "execution_count": 34,
   "metadata": {},
   "outputs": [],
   "source": [
    "#Clean tags and extract useful info from the question dataset (date, id, tag)\n",
    "#We test a different way of extracting tags here, using lambdas. The speed seems to be about the same.\n",
    "question_dates = questions_rdd.select('CreationDate', 'Id', 'Tags')\\\n",
    "                    .rdd.flatMap(lambda r: [(r[0], r[1], g) for g in r[2].split('><')])\\\n",
    "                    .map(lambda r: (r[0], r[1], str(r[2]).replace('<', '').replace('>', '')))\\\n",
    "                    .toDF(['CreationDate', 'Id', 'Tags'])"
   ]
  },
  {
   "cell_type": "code",
   "execution_count": 35,
   "metadata": {},
   "outputs": [],
   "source": [
    "#Keep only the questions with common tags \n",
    "common_tag_questions = question_dates.filter(question_dates['Tags'].isin(common_tags))"
   ]
  },
  {
   "cell_type": "code",
   "execution_count": 36,
   "metadata": {},
   "outputs": [],
   "source": [
    "#Calculate time for first answers of all questions\n",
    "response_times = common_tag_questions.join(earliest_answers, 'Id')\\\n",
    "                            .rdd.map(lambda r: (r['Tags'], ((r['AnswerDate'] - r['CreationDate']).total_seconds())))"
   ]
  },
  {
   "cell_type": "code",
   "execution_count": 37,
   "metadata": {},
   "outputs": [],
   "source": [
    "#Get the 10 fastest response times. Again, we weed out negative times\n",
    "fastest_resp = response_times.filter(lambda r: r[1] > 0).takeOrdered(10, key= lambda r: r[1])"
   ]
  },
  {
   "cell_type": "code",
   "execution_count": 44,
   "metadata": {},
   "outputs": [
    {
     "data": {
      "text/plain": [
       "<matplotlib.axes._subplots.AxesSubplot at 0x7ff13e1319e8>"
      ]
     },
     "execution_count": 44,
     "metadata": {},
     "output_type": "execute_result"
    },
    {
     "data": {
      "image/png": "[encoded data removed]",
      "text/plain": [
       "<Figure size 720x432 with 1 Axes>"
      ]
     },
     "metadata": {},
     "output_type": "display_data"
    }
   ],
   "source": [
    "#Plot the 10 fastest tag-response\n",
    "pd.DataFrame(fastest_resp)\\\n",
    "                .rename(columns={0:'Tags', 1:'Response Time'})\\\n",
    "                .set_index('Tags')\\\n",
    "                .plot(kind='barh', title='Tags on questions with top 10 fastest response times')"
   ]
  },
  {
   "cell_type": "markdown",
   "metadata": {},
   "source": [
    "The speed at which answers are given seems too quick for humans, suggesting that Stack Overflow may make use of bots to match questions to similar questions that already have answers. (And indeed, this paper confirms that for a while, there was at least one: http://bvasiles.github.io/papers/chi16bot.pdf .)"
   ]
  },
  {
   "cell_type": "markdown",
   "metadata": {},
   "source": [
    "### Task E: What's up with PySpark?\n",
    "The number of questions asked regarding a specific topic reflect the public’s interest on it. We are interested on the popularity of PySpark. Compute and plot the number of questions with the ```pyspark``` tag for 30-day time intervals. Do you notice any trend over time? Is there any correlation between time and number of questions?\n"
   ]
  },
  {
   "cell_type": "code",
   "execution_count": 39,
   "metadata": {},
   "outputs": [],
   "source": [
    "#Interval calculation: \n",
    "# 60 (seconds) * 60 (minutes) * 24 (hours) * 30 (days) -> convert seconds to 30-day intervals\n",
    "interval = (60*60*24*30)\n",
    "\n",
    "#To get the interval of a timestamp:\n",
    "# 1) convert it to 30-day intervals through division\n",
    "# 2) round down to the nearest category with floor\n",
    "# 3) convert it back to the category's timestamp (* interval)\n",
    "def getDaysIntervall(dt):\n",
    "    return floor((dt.timestamp())/interval) * interval"
   ]
  },
  {
   "cell_type": "code",
   "execution_count": 40,
   "metadata": {},
   "outputs": [],
   "source": [
    "#Compute different intervals as a function of the date\n",
    "thirty_day_quest = questions_rdd.filter(\"Tags like '%<pyspark>%'\")\\\n",
    "                .select('CreationDate').rdd\\\n",
    "                .map(lambda r: (getDaysIntervall(r[0]), 1))\\\n",
    "                .reduceByKey(lambda a,b: a+b)\\\n",
    "                .map(lambda r: (datetime.fromtimestamp(r[0]), r[1]))"
   ]
  },
  {
   "cell_type": "code",
   "execution_count": 43,
   "metadata": {
    "scrolled": false
   },
   "outputs": [
    {
     "data": {
      "text/plain": [
       "<matplotlib.axes._subplots.AxesSubplot at 0x7ff13f5037b8>"
      ]
     },
     "execution_count": 43,
     "metadata": {},
     "output_type": "execute_result"
    },
    {
     "data": {
      "image/png": "[encoded data removed]",
      "text/plain": [
       "<Figure size 720x432 with 1 Axes>"
      ]
     },
     "metadata": {},
     "output_type": "display_data"
    }
   ],
   "source": [
    "#Plot number of questions per interval\n",
    "pd.DataFrame(thirty_day_quest.collect())\\\n",
    "                                .rename(columns={0:'Intervall', 1: 'Number of Questions'})\\\n",
    "                                .set_index('Intervall')\\\n",
    "                                .plot(\n",
    "                                    title='Number of questions asked about pyspark in thirty day period')"
   ]
  },
  {
   "cell_type": "markdown",
   "metadata": {},
   "source": [
    "When researching Spark, we can find out that the first version of Apache Spark came out in 2012, (so before, there could not have been any questions about it). Since then, new versions have consistently been released every spring and autumn, apart from in 2017.\n",
    "\n",
    "There is a clear trend of growth here, time seemingly correlated with the number of questions. There are of course no questions about pyspark before its creation, and from 2012, we see how the number of questions grows as pyspark becomes more common, with notable surges around the version release times as people adapt to the new updates. This slows down in 2017, presumably because of the lack of new versions, and then surges especially strongly in 2018 with the first new version in a year and a half. Note that for October 2018 we have a sharp dip, presumably because this data was collected before the end of the last thirty-day period, so that one contains fewer questions.\n",
    "\n",
    "Source: https://en.wikipedia.org/wiki/Apache_Spark"
   ]
  }
 ],
 "metadata": {
  "kernelspec": {
   "display_name": "Python 3",
   "language": "python",
   "name": "python3"
  },
  "language_info": {
   "codemirror_mode": {
    "name": "ipython",
    "version": 3
   },
   "file_extension": ".py",
   "mimetype": "text/x-python",
   "name": "python",
   "nbconvert_exporter": "python",
   "pygments_lexer": "ipython3",
   "version": "3.6.5"
  }
 },
 "nbformat": 4,
 "nbformat_minor": 2
}
